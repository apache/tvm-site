{
  "cells": [
    {
      "cell_type": "code",
      "execution_count": null,
      "metadata": {
        "collapsed": false
      },
      "outputs": [],
      "source": [
        "%matplotlib inline"
      ]
    },
    {
      "cell_type": "markdown",
      "metadata": {},
      "source": [
        "\n\n# Executing a Tiny Model with TVMC Micro\n**Author**: [Mehrdad Hessar](https://github.com/mehrdadh)\n\nThis tutorial explains how to compile a tiny model for a micro device,\nbuild a program on Zephyr platform to execute this model, flash the program\nand run the model all using `tvmc micro` command.\n"
      ]
    },
    {
      "cell_type": "markdown",
      "metadata": {},
      "source": [
        "<div class=\"alert alert-info\"><h4>Note</h4><p>This tutorial is explaining using TVMC Mirco on Zephyr platform. You need\n    to install Zephyr dependencies before processing with this tutorial. Alternatively,\n    you can run this tutorial in one of the following ways which has Zephyr depencencies already installed.\n\n    * Use [microTVM Reference Virtual Machines](https://tvm.apache.org/docs/how_to/work_with_microtvm/micro_reference_vm.html#sphx-glr-how-to-work-with-microtvm-micro-reference-vm-py).\n    * Use QEMU docker image provided by TVM. Following these you will download and login to the docker image:\n\n```bash\ncd tvm\n./docker/bash.sh tlcpack/ci-qemu</p></div>\n```\n"
      ]
    },
    {
      "cell_type": "markdown",
      "metadata": {},
      "source": [
        "## Using TVMC Micro\n\n TVMC is a command-line tool which is installed as a part of TVM Python packages. Accessing this\n package varies based on your machine setup. In many cases, you can use the ``tvmc`` command directly.\n Alternatively, if you have TVM as a Python module on your ``$PYTHONPATH``, you can access this\n driver with ``python -m tvm.driver.tvmc`` command. This tutorial will use TVMC command as\n ``tvmc`` for simplicity.\n\n To check if you have TVMC command installed on your machine, you can run:\n\n```bash\ntvmc --help\n```\n To compile a model for microtvm we use ``tvmc compile`` subcommand. The output of this command\n is used in next steps with ``tvmc micro`` subcommands. You can check the availability of TVMC Micro using:\n\n```bash\ntvmc micro --help\n```\n The main tasks that you can perform using ``tvmc micro`` are ``create``, ``build`` and ``flash``.\n To read about specific options under a givern subcommand, use\n ``tvmc micro <subcommand> --help``. We will use each subcommand in this tutorial.\n\n\n"
      ]
    },
    {
      "cell_type": "markdown",
      "metadata": {},
      "source": [
        "## Obtain a Tiny Model\n\n For this tutorial, we will use Magic Wand model from tflite micro. Magic Wand is a\n Depthwise Convolution Layer model which recognizes gestures with an accelerometer.\n\n For this tutorial we will be using the model in tflite format.\n\n```bash\nwget https://github.com/tensorflow/tflite-micro/raw/main/tensorflow/lite/micro/examples/magic_wand/magic_wand.tflite\n```\n"
      ]
    },
    {
      "cell_type": "markdown",
      "metadata": {},
      "source": [
        "## Compiling a TFLite model to a Model Library Format\n\n Model Library Format (MLF) is an output format that TVM provides for micro targets. MLF is a tarball\n containing a file for each piece of the TVM compiler output which can be used on micro targets outside\n TVM environment. Read more about [Model Library Format](https://tvm.apache.org/docs//arch/model_library_format.html).\n\n Here, we generate a MLF file for ``qemu_x86`` Zephyr board. To generate MLF output for the ``magic_wand`` tflite model:\n\n```bash\ntvmc compile magic_wand.tflite \\\n    --target='c -keys=cpu -model=host' \\\n    --runtime=crt \\\n    --runtime-crt-system-lib 1 \\\n    --executor='graph' \\\n    --executor-graph-link-params 0 \\\n    --output model.tar \\\n    --output-format mlf \\\n    --pass-config tir.disable_vectorize=1 \\\n    --disabled-pass=AlterOpLayout\n```\n This will generate a ``model.tar`` file which contains TVM compiler output files. To run this command for\n a different Zephyr device, you need to update ``target``. For instance, for ``nrf5340dk_nrf5340_cpuapp`` board\n the target is ``--target='c -keys=cpu -model=nrf5340dk'``.\n\n\n"
      ]
    },
    {
      "cell_type": "markdown",
      "metadata": {},
      "source": [
        "## Create a Zephyr Project Using Model Library Format\n\n To generate a Zephyr project we use TVM Micro subcommand ``create``. We pass the MLF format and the path\n for the project to ``create`` subcommand along with project options. Project options for each\n platform (Zephyr/Arduino) are defined in their Project API server file. To build\n Zephyr project for a different Zephyr board, change ``zephyr_board`` project option.\n To generate Zephyr project, run:\n\n```bash\ntvmc micro create \\\n    project \\\n    model.tar \\\n    zephyr \\\n    --project-option project_type=host_driven zephyr_board=qemu_x86\n```\n This will generate a ``Host-Driven`` Zephyr project for ``qemu_x86`` Zephyr board. In Host-Driven template project,\n the Graph Executor will run on host and perform the model execution on Zephyr device by issuing commands to the\n device using an RPC mechanism. Read more about [Host-Driven Execution](https://tvm.apache.org/docs/arch/microtvm_design.html#host-driven-execution).\n\n To get more information about TVMC Micro ``create`` subcommand:\n\n```bash\ntvmc micro create --help\n```\n"
      ]
    },
    {
      "cell_type": "markdown",
      "metadata": {},
      "source": [
        "## Build and Flash Zephyr Project Using TVMC Micro\n\n Next step is to build the Zephyr project which includes TVM generated code for running the tiny model, Zephyr\n template code to run a model in Host-Driven mode and TVM runtime source/header files. To build the project:\n\n```bash\ntvmc micro build \\\n    project \\\n    zephyr\n```\n This will build the project in ``project`` directory and generates binary files under ``project/build``.\n\n Next, we flash the Zephyr binary file to Zephyr device. For ``qemu_x86`` Zephyr board this step does not\n actually perform any action since QEMU will be used, however you need this step for physical hardware.\n\n```bash\ntvmc micro flash \\\n    project \\\n    zephyr\n```\n"
      ]
    },
    {
      "cell_type": "markdown",
      "metadata": {},
      "source": [
        "## Run Tiny Model on Micro Target\n\n After flashing the device, the compiled model and TVM RPC server are programmed on the device.\n The Zephyr board is waiting for host to open a communication channel. MicroTVM devices typicall communicate\n using a serial communication (UART). To run the flashed model on the device using TVMC, we use ``tvmc run`` subcommand\n and pass ``--device micro`` to specify the device type. This command will open a communication channel, set input\n values using ``Graph Executor`` on host and run full model on the device. Then it gets output from the device.\n\n```bash\ntvmc run \\\n    --device micro \\\n    project \\\n    --fill-mode ones \\\n    --print-top 4\n```\n     # Output:\n     #\n     # INFO:__main__:b'[100%] [QEMU] CPU: qemu32,+nx,+pae\\n'\n     # remote: microTVM Zephyr runtime - running\n     # INFO:__main__:b'[100%] Built target run\\n'\n     # [[3.         1.         2.         0.        ]\n     # [0.47213247 0.41364592 0.07525456 0.03896701]]\n\n Specifically, this command sets the input of the model to all ones and shows the four values of the output with their indices.\n\n"
      ]
    }
  ],
  "metadata": {
    "kernelspec": {
      "display_name": "Python 3",
      "language": "python",
      "name": "python3"
    },
    "language_info": {
      "codemirror_mode": {
        "name": "ipython",
        "version": 3
      },
      "file_extension": ".py",
      "mimetype": "text/x-python",
      "name": "python",
      "nbconvert_exporter": "python",
      "pygments_lexer": "ipython3",
      "version": "3.7.5"
    }
  },
  "nbformat": 4,
  "nbformat_minor": 0
}