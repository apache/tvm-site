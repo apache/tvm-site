{
  "cells": [
    {
      "cell_type": "code",
      "execution_count": null,
      "metadata": {
        "collapsed": false
      },
      "outputs": [],
      "source": [
        "%matplotlib inline"
      ]
    },
    {
      "cell_type": "markdown",
      "metadata": {},
      "source": [
        "\nInstalling TVM\n==============\n**Authors**:\n`Jocelyn Shiue <https://github.com/>`_,\n`Chris Hoge <https://github.com/hogepodge>`_\n\nDepending on your needs and your working environment, there are a few different\nmethods for installing TVM. These include:\n\n* Installing from source\n* Installing from third-party binary package.\n\n"
      ]
    },
    {
      "cell_type": "markdown",
      "metadata": {},
      "source": [
        "Installing from Source\n----------------------\nInstalling from source is the recommended method for installing TVM. It will\nallow you to enable specific features such as GPU support, microcontroller\nsupport (microTVM), and a debugging runtime, and other features. You will also\nwant to install from source if you want to actively contribute to the TVM\nproject. The full instructions are on the `Install TVM From Source\n<install-from-source>` page.\n\n"
      ]
    },
    {
      "cell_type": "markdown",
      "metadata": {},
      "source": [
        "Installing From Binary Packages\n--------------------------------\nYou may install convenient third-party binary package distributions to\nquickly try things out. TLCPack is a thirdparty volunteer community that\nbuilds binary packages from TVM source. It offers support matrix with\ninstructions to install on different platforms, with different features.\nCheckout  `TLCPack <https://tlcpack.ai>`_ to learn more. Note that the\nthirdparty binary packages could contain additional licensing terms for\nthe hardware drivers that are bundled with it.\n\n"
      ]
    }
  ],
  "metadata": {
    "kernelspec": {
      "display_name": "Python 3",
      "language": "python",
      "name": "python3"
    },
    "language_info": {
      "codemirror_mode": {
        "name": "ipython",
        "version": 3
      },
      "file_extension": ".py",
      "mimetype": "text/x-python",
      "name": "python",
      "nbconvert_exporter": "python",
      "pygments_lexer": "ipython3",
      "version": "3.6.9"
    }
  },
  "nbformat": 4,
  "nbformat_minor": 0
}