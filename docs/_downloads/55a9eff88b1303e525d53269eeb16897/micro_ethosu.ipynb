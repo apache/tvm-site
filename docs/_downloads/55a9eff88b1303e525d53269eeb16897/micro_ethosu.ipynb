{
  "cells": [
    {
      "cell_type": "code",
      "execution_count": null,
      "metadata": {
        "collapsed": false
      },
      "outputs": [],
      "source": [
        "%%shell\n# Installs the latest dev build of TVM from PyPI. If you wish to build\n# from source, see https://tvm.apache.org/docs/install/from_source.html\npip install apache-tvm --pre"
      ]
    },
    {
      "cell_type": "markdown",
      "metadata": {},
      "source": [
        "\n\n# 7. Running TVM on bare metal Arm(R) Cortex(R)-M55 CPU and Ethos(TM)-U55 NPU with CMSIS-NN\n**Author**:\n[Grant Watson](https://github.com/grant-arm)\n\nThis section contains an example of how to use TVM to run a model\non an Arm(R) Cortex(R)-M55 CPU and Ethos(TM)-U55 NPU with CMSIS-NN, using bare metal.\nThe Cortex(R)-M55 is a small, low-power CPU designed for use in embedded\ndevices. CMSIS-NN is a collection of kernels optimized for Arm(R) Cortex(R)-M CPUs.\nThe Ethos(TM)-U55 is a microNPU, specifically designed to accelerate\nML inference in resource-constrained embedded devices.\n\nIn order to run the demo application without having access to a Cortex(R)-M55\nand Ethos(TM)-U55 development board, we will be running our sample application\non a Fixed Virtual Platform (FVP). The FVP based on Arm(R) Corstone(TM)-300\nsoftware, models a hardware system containing a Cortex(R)-M55 and Ethos(TM)-U55.\nIt provides a programmer's view that is suitable for software development.\n\nIn this tutorial, we will be compiling a MobileNet v1 model and instructing\nTVM to offload operators to the Ethos(TM)-U55 where possible.\n"
      ]
    },
    {
      "cell_type": "markdown",
      "metadata": {},
      "source": [
        "## Obtaining TVM\n\nTo obtain TVM for you platform, please visit https://tlcpack.ai/ and follow the\ninstructions. Once TVM has been installed correctly, you should have access to\n``tvmc`` from the command line.\n\nTyping ``tvmc`` on the command line should display the following:\n\n```text\nusage: tvmc [-h] [-v] [--version] {tune,compile,run} ...\n\nTVM compiler driver\n\noptional arguments:\n  -h, --help          show this help message and exit\n  -v, --verbose       increase verbosity\n  --version           print the version and exit\n\ncommands:\n  {tune,compile,run}\n    tune              auto-tune a model\n    compile           compile a model.\n    run               run a compiled module\n\nTVMC - TVM driver command-line interface\n```\n"
      ]
    },
    {
      "cell_type": "markdown",
      "metadata": {},
      "source": [
        "## Installing additional python dependencies\n\nIn order to run the demo, you will need some additional python packages.\nThese can be installed by using the requirements.txt file below:\n\nThese packages can be installed by running the following from the command line:\n\n```bash\npip install -r requirements.txt\n```\n"
      ]
    },
    {
      "cell_type": "markdown",
      "metadata": {},
      "source": [
        "## Obtaining the Model\n\nFor this tutorial, we will be working with MobileNet v1.\nMobileNet v1 is a convolutional neural network designed to classify images,\nthat has been optimized for edge devices. The model we will be using has been\npre-trained to classify images into one of 1001 different categories.\nThe network has an input image size of 224x224 so any input images will need\nto be resized to those dimensions before being used.\n\nFor this tutorial we will be using the model in Tflite format.\n\n```bash\nmkdir -p ./build\ncd build\nwget https://storage.googleapis.com/download.tensorflow.org/models/mobilenet_v1_2018_08_02/mobilenet_v1_1.0_224_quant.tgz\ngunzip mobilenet_v1_1.0_224_quant.tgz\ntar xvf mobilenet_v1_1.0_224_quant.tar\n```\n"
      ]
    },
    {
      "cell_type": "markdown",
      "metadata": {},
      "source": [
        "## Compiling the model for Arm(R) Cortex(R)-M55 CPU and Ethos(TM)-U55 NPU with CMSIS-NN\n\nOnce we've downloaded the MobileNet v1 model, the next step is to compile it.\nTo accomplish that, we are going to use ``tvmc compile``. The output we get from\nthe compilation process is a TAR package of the model compiled to the Model\nLibrary Format (MLF) for our target platform. We will be able to run that model\non our target device using the TVM runtime.\n\n```bash\ntvmc compile --target=ethos-u,cmsis-nn,c \\\n             --target-ethos-u-accelerator_config=ethos-u55-256 \\\n             --target-cmsis-nn-mcpu=cortex-m55 \\\n             --target-c-mcpu=cortex-m55 \\\n             --runtime=crt \\\n             --executor=aot \\\n             --executor-aot-interface-api=c \\\n             --executor-aot-unpacked-api=1 \\\n             --pass-config tir.usmp.enable=1 \\\n             --pass-config tir.usmp.algorithm=hill_climb \\\n             --pass-config tir.disable_storage_rewrite=1 \\\n             --pass-config tir.disable_vectorize=1 \\\n             ./mobilenet_v1_1.0_224_quant.tflite \\\n             --output-format=mlf\n```\n"
      ]
    },
    {
      "cell_type": "markdown",
      "metadata": {},
      "source": [
        "<div class=\"alert alert-info\"><h4>Note</h4><p>Explanation of tvmc compile arguments:\n\n  * ``--target=ethos-u,cmsis-nn,c`` : offload operators to the microNPU where possible, falling back to CMSIS-NN and finally generated C code where an operator is not supported on the microNPU..\n\n  * ``--target-ethos-u-accelerator_config=ethos-u55-256`` : specifies the microNPU configuration\n\n  * ``--target-c-mcpu=cortex-m55`` : Cross-compile for the Cortex(R)-M55.\n\n  * ``--runtime=crt`` : Generate glue code to allow operators to work with C runtime.\n\n  * ``--executor=aot`` : Use Ahead Of Time compiltaion instead of the Graph Executor.\n\n  * ``--executor-aot-interface-api=c`` : Generate a C-style interface with structures designed for integrating into C apps at the boundary.\n\n  * ``--executor-aot-unpacked-api=1`` : Use the unpacked API internally.\n\n  * ``--pass-config tir.usmp.enable=1`` : Enable Unified Static Memory Planning\n\n  * ``--pass-config tir.usmp.algorithm=hill_climb`` : Use the hill-climb algorithm for USMP\n\n  * ``--pass-config tir.disable_storage_rewrite=1`` : Disable storage rewrite\n\n  * ``--pass-config tir.disable_vectorize=1`` : Disable vectorize since there are no standard vectorized types in C.\n\n  * ``./mobilenet_v1_1.0_224_quant.tflite`` : The TFLite model that is being compiled.\n\n  * ``--output-format=mlf`` : Output should be generated in the Model Library Format.</p></div>\n\n\n"
      ]
    },
    {
      "cell_type": "markdown",
      "metadata": {},
      "source": [
        "<div class=\"alert alert-info\"><h4>Note</h4><p>If you don't want to make use of the microNPU and want to offload\n   operators to CMSIS-NN only:\n\n  * Use ``--target=cmsis-nn,c`` in place of ``--target=ethos-u,cmsis-nn,c``\n\n  * Remove the microNPU config parameter ``--target-ethos-u-accelerator_config=ethos-u55-256``</p></div>\n\n\n"
      ]
    },
    {
      "cell_type": "markdown",
      "metadata": {},
      "source": [
        "## Extracting the generated code into the current directory\n\n```bash\ntar xvf module.tar\n```\n"
      ]
    },
    {
      "cell_type": "markdown",
      "metadata": {},
      "source": [
        "## Getting ImageNet labels\n\nWhen running MobileNet v1 on an image, the result is an index in the range 0 to\n1000. In order to make our application a little more user friendly, instead of\njust displaying the category index, we will display the associated label. We\nwill download these image labels into a text file now and use a python script\nto include them in our C application later.\n\n```bash\ncurl -sS  https://raw.githubusercontent.com/tensorflow/tensorflow/master/tensorflow/lite/java/demo/app/src/main/assets/labels_mobilenet_quant_v1_224.txt \\\n-o ./labels_mobilenet_quant_v1_224.txt\n```\n"
      ]
    },
    {
      "cell_type": "markdown",
      "metadata": {},
      "source": [
        "## Getting the input image\n\nAs input for this tutorial, we will use the image of a cat, but you can\nsubstitute an image of your choosing.\n\n<img src=\"https://s3.amazonaws.com/model-server/inputs/kitten.jpg\" height=\"224px\" width=\"224px\" align=\"center\">\n\nWe download the image into the build directory and we will use a python script\nin the next step to convert the image into an array of bytes in a C header file.\n\n```bash\ncurl -sS https://s3.amazonaws.com/model-server/inputs/kitten.jpg -o ./kitten.jpg\n```\n"
      ]
    },
    {
      "cell_type": "markdown",
      "metadata": {},
      "source": [
        "## Pre-processing the image\n\nThe following script will create 2 C header files in the src directory:\n\n* ``inputs.h`` - The image supplied as an argument to the script will be converted\n  to an array of integers for input to our MobileNet v1 model.\n* ``outputs.h`` - An integer array of zeroes will reserve 1001 integer values\n  for the output of inference.\n\nRun the script from the command line:\n\n```bash\npython convert_image.py ./kitten.jpg\n```\n"
      ]
    },
    {
      "cell_type": "markdown",
      "metadata": {},
      "source": [
        "## Pre-processing the labels\n\nThe following script will create a ``labels.h`` header file in the src directory.\nThe labels.txt file that we downloaded previously will be turned\ninto an array of strings. This array will be used to display the label that\nour image has been classified as.\n\nRun the script from the command line:\n\n```bash\npython convert_labels.py\n```\n"
      ]
    },
    {
      "cell_type": "markdown",
      "metadata": {},
      "source": [
        "## Writing the demo application\n\nThe following C application will run a single inference of the MobileNet v1\nmodel on the image that we downloaded and converted to an array of integers\npreviously. Since the model was compiled with a target of \"ethos-u ...\",\noperators supported by the Ethos(TM)-U55 NPU will be offloaded for acceleration.\nOnce the application is built and run, our test image should be correctly\nclassied as a \"tabby\" and the result should be displayed on the console.\nThis file should be placed in ``./src``\n\nIn addition, you will need these header files from github in your ``./include`` directory:\n\n[include files](https://github.com/apache/tvm/tree/main/apps/microtvm/ethosu/include)\n\n"
      ]
    },
    {
      "cell_type": "markdown",
      "metadata": {},
      "source": [
        "<div class=\"alert alert-info\"><h4>Note</h4><p>If you'd like to use FreeRTOS for task scheduling and queues, a sample application can be found here\n  `demo_freertos.c <https://github.com/apache/tvm/blob/main/apps/microtvm/ethosu/src/demo_freertos.c>`</p></div>\n\n"
      ]
    },
    {
      "cell_type": "markdown",
      "metadata": {},
      "source": [
        "## Creating the linker script\n\nWe need to create a linker script that will be used when we build our application\nin the following section. The linker script tells the linker where everything\nshould be placed in memory. The corstone300.ld linker script below should be\nplaced in your working directory.\n\nAn example linker script for the FVP can be found here\n[corstone300.ld](https://github.com/apache/tvm/blob/main/apps/microtvm/ethosu/corstone300.ld)\n\n"
      ]
    },
    {
      "cell_type": "markdown",
      "metadata": {},
      "source": [
        "<div class=\"alert alert-info\"><h4>Note</h4><p>The code generated by TVM will place the model weights and the Arm(R)\n  Ethos(TM)-U55 command stream in a section named ``ethosu_scratch``.\n  For a model the size of MobileNet v1, the weights and command stream will not\n  fit into the limited SRAM available. For this reason it's important that the\n  linker script places the ``ethosu_scratch`` section into DRAM (DDR).</p></div>\n\n"
      ]
    },
    {
      "cell_type": "markdown",
      "metadata": {},
      "source": [
        "<div class=\"alert alert-info\"><h4>Note</h4><p>Before building and running the application, you will need to update your\n  PATH environment variable to include the path to cmake 3.19.5 and the FVP.\n  For example if you've installed these in ``/opt/arm`` , then you would do\n  the following:\n\n  ``export PATH=/opt/arm/FVP_Corstone_SSE-300_Ethos-U55/models/Linux64_GCC-6.4:/opt/arm/cmake/bin:$PATH``</p></div>\n\n\n"
      ]
    },
    {
      "cell_type": "markdown",
      "metadata": {},
      "source": [
        "## Building the demo application using make\n\nWe can now build the demo application using make. The Makefile should be placed\nin your working directory before running ``make`` on the command line:\n\nAn example Makefile can be found here:\n[Makefile](https://github.com/apache/tvm/blob/main/apps/microtvm/ethosu/Makefile)\n\n"
      ]
    },
    {
      "cell_type": "markdown",
      "metadata": {},
      "source": [
        "<div class=\"alert alert-info\"><h4>Note</h4><p>If you're using FreeRTOS, the Makefile builds it from the specified FREERTOS_PATH:\n    ``make FREERTOS_PATH=<FreeRTOS directory>``</p></div>\n\n\n"
      ]
    },
    {
      "cell_type": "markdown",
      "metadata": {},
      "source": [
        "## Running the demo application\n\nFinally, we can run our demo appliction on the Fixed Virtual Platform (FVP),\nby using the following command:\n\n```bash\nFVP_Corstone_SSE-300_Ethos-U55 -C cpu0.CFGDTCMSZ=15 \\\n-C cpu0.CFGITCMSZ=15 -C mps3_board.uart0.out_file=\\\"-\\\" -C mps3_board.uart0.shutdown_tag=\\\"EXITTHESIM\\\" \\\n-C mps3_board.visualisation.disable-visualisation=1 -C mps3_board.telnetterminal0.start_telnet=0 \\\n-C mps3_board.telnetterminal1.start_telnet=0 -C mps3_board.telnetterminal2.start_telnet=0 -C mps3_board.telnetterminal5.start_telnet=0 \\\n-C ethosu.extra_args=\"--fast\" \\\n-C ethosu.num_macs=256 ./build/demo\n```\nYou should see the following output displayed in your console window:\n\n```text\ntelnetterminal0: Listening for serial connection on port 5000\ntelnetterminal1: Listening for serial connection on port 5001\ntelnetterminal2: Listening for serial connection on port 5002\ntelnetterminal5: Listening for serial connection on port 5003\n\n    Ethos-U rev dedfa618 --- Jan 12 2021 23:03:55\n    (C) COPYRIGHT 2019-2021 Arm Limited\n    ALL RIGHTS RESERVED\n\nStarting Demo\nethosu_init. base_address=0x48102000, fast_memory=0x0, fast_memory_size=0, secure=1, privileged=1\nethosu_register_driver: New NPU driver at address 0x20000de8 is registered.\nCMD=0x00000000\nSoft reset NPU\nAllocating memory\nRunning inference\nethosu_find_and_reserve_driver - Driver 0x20000de8 reserved.\nethosu_invoke\nCMD=0x00000004\nQCONFIG=0x00000002\nREGIONCFG0=0x00000003\nREGIONCFG1=0x00000003\nREGIONCFG2=0x00000013\nREGIONCFG3=0x00000053\nREGIONCFG4=0x00000153\nREGIONCFG5=0x00000553\nREGIONCFG6=0x00001553\nREGIONCFG7=0x00005553\nAXI_LIMIT0=0x0f1f0000\nAXI_LIMIT1=0x0f1f0000\nAXI_LIMIT2=0x0f1f0000\nAXI_LIMIT3=0x0f1f0000\nethosu_invoke OPTIMIZER_CONFIG\nhandle_optimizer_config:\nOptimizer release nbr: 0 patch: 1\nOptimizer config cmd_stream_version: 0 macs_per_cc: 8 shram_size: 48 custom_dma: 0\nOptimizer config Ethos-U version: 1.0.6\nEthos-U config cmd_stream_version: 0 macs_per_cc: 8 shram_size: 48 custom_dma: 0\nEthos-U version: 1.0.6\nethosu_invoke NOP\nethosu_invoke NOP\nethosu_invoke NOP\nethosu_invoke COMMAND_STREAM\nhandle_command_stream: cmd_stream=0x61025be0, cms_length 1181\nQBASE=0x0000000061025be0, QSIZE=4724, base_pointer_offset=0x00000000\nBASEP0=0x0000000061026e60\nBASEP1=0x0000000060002f10\nBASEP2=0x0000000060002f10\nBASEP3=0x0000000061000fb0\nBASEP4=0x0000000060000fb0\nCMD=0x000Interrupt. status=0xffff0022, qread=4724\nCMD=0x00000006\n00006\nCMD=0x0000000c\nethosu_release_driver - Driver 0x20000de8 released\nThe image has been classified as 'tabby'\nEXITTHESIM\nInfo: /OSCI/SystemC: Simulation stopped by user.\n```\nYou should see near the end of the output that the image has been correctly\nclassified as 'tabby'.\n\n"
      ]
    }
  ],
  "metadata": {
    "kernelspec": {
      "display_name": "Python 3",
      "language": "python",
      "name": "python3"
    },
    "language_info": {
      "codemirror_mode": {
        "name": "ipython",
        "version": 3
      },
      "file_extension": ".py",
      "mimetype": "text/x-python",
      "name": "python",
      "nbconvert_exporter": "python",
      "pygments_lexer": "ipython3",
      "version": "3.7.5"
    }
  },
  "nbformat": 4,
  "nbformat_minor": 0
}