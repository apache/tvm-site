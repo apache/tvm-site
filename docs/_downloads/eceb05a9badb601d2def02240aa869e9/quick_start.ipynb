{
  "cells": [
    {
      "cell_type": "code",
      "execution_count": null,
      "metadata": {
        "collapsed": false
      },
      "outputs": [],
      "source": [
        "%%shell\n# Installs the latest dev build of TVM from PyPI. If you wish to build\n# from source, see https://tvm.apache.org/docs/install/from_source.html\npip install apache-tvm --pre"
      ]
    },
    {
      "cell_type": "markdown",
      "metadata": {},
      "source": [
        "\n\n# Quick Start\n\nThis tutorial is for people who are new to Apache TVM. Taking an simple example\nto show how to use Apache TVM to compile a simple neural network.\n    :depth: 2\n"
      ]
    },
    {
      "cell_type": "markdown",
      "metadata": {},
      "source": [
        "## Overview\nApache TVM is a machine learning compilation framework, following the principle of\n**Python-first development** and **universal deployment**. It takes in pre-trained\nmachine learning models, compiles and generates deployable modules that can be embedded\nand run everywhere.\nApache TVM also enables customizing optimization processes to introduce new optimizations,\nlibraries, codegen and more.\n\nApache TVM can help to:\n\n- **Optimize** performance of ML workloads, composing libraries and codegen.\n- **Deploy** ML workloads to a diverse set of new environments, including new runtime and new\n  hardware.\n- **Continuously improve and customize** ML deployment pipeline in Python by quickly customizing\n  library dispatching, bringing in customized operators and code generation.\n\n"
      ]
    },
    {
      "cell_type": "markdown",
      "metadata": {},
      "source": [
        "## Overall Flow\nThen we will show the overall flow of using Apache TVM to compile a neural network model,\nshowing how to optimize, deploy and run the model.\nThe overall flow is illustrated as the figure:\n\nThe overall flow consists of the following steps:\n\n- **Construct or Import a Model**: Construct a neural network model or import a pre-trained\n  model from other frameworks (e.g. PyTorch, ONNX), and create the TVM IRModule, which contains\n  all the information needed for compilation, including high-level Relax functions for\n  computational graph, and low-level TensorIR functions for tensor program.\n- **Perform Composable Optimizations**: Perform a series of optimization transformations,\n  such as graph optimizations, tensor program optimizations, and library dispatching.\n- **Build and Universal Deployment**: Build the optimized model to a deployable module to the\n  universal runtime, and execute it on different devices, such as CPU, GPU, or other accelerators.\n\n"
      ]
    },
    {
      "cell_type": "markdown",
      "metadata": {},
      "source": [
        "### Construct or Import a Model\nBefore we get started, let's construct a neural network model first.\nIn this tutorial, to make things simple, we will defined a two-layer MLP networks\ndirectly in this script with TVM Relax frontend, which is a similar API to PyTorch.\n\n\n"
      ]
    },
    {
      "cell_type": "code",
      "execution_count": null,
      "metadata": {
        "collapsed": false
      },
      "outputs": [],
      "source": [
        "import tvm\nfrom tvm import relax\nfrom tvm.relax.frontend import nn\n\n\nclass MLPModel(nn.Module):\n    def __init__(self):\n        super(MLPModel, self).__init__()\n        self.fc1 = nn.Linear(784, 256)\n        self.relu1 = nn.ReLU()\n        self.fc2 = nn.Linear(256, 10)\n\n    def forward(self, x):\n        x = self.fc1(x)\n        x = self.relu1(x)\n        x = self.fc2(x)\n        return x"
      ]
    },
    {
      "cell_type": "markdown",
      "metadata": {},
      "source": [
        "Then we can export the model to TVM IRModule, which is the central intermediate representation\nin TVM.\n\n"
      ]
    },
    {
      "cell_type": "code",
      "execution_count": null,
      "metadata": {
        "collapsed": false
      },
      "outputs": [],
      "source": [
        "mod, param_spec = MLPModel().export_tvm(\n    spec={\"forward\": {\"x\": nn.spec.Tensor((1, 784), \"float32\")}}\n)\nmod.show()"
      ]
    },
    {
      "cell_type": "markdown",
      "metadata": {},
      "source": [
        "### Perform Optimization Transformations\nApache TVM leverage ``pipeline`` to transform and optimize program.\nThe pipeline encapsulates a collection of transformation that gets two goals (at the same level):\n\n- **Model optimizations**: such as operator fusion, layout rewrites.\n- **Tensor program optimization**: Map the operators to low-level implementations\n  (both library or codegen)\n\n<div class=\"alert alert-info\"><h4>Note</h4><p>The twos are goals but not the stages of the pipeline. The two optimizations are performed\n  **at the same level**, or separately in two stages.</p></div>\n\n<div class=\"alert alert-info\"><h4>Note</h4><p>In this tutorial we only demonstrate the overall flow, by leverage ``zero`` optimization\n  pipeline, instead of optimizing for any specific target.</p></div>\n\n"
      ]
    },
    {
      "cell_type": "code",
      "execution_count": null,
      "metadata": {
        "collapsed": false
      },
      "outputs": [],
      "source": [
        "mod = relax.get_pipeline(\"zero\")(mod)"
      ]
    },
    {
      "cell_type": "markdown",
      "metadata": {},
      "source": [
        "### Build and Universal Deployment\nAfter the optimization, we can build the model to a deployable module and run it on\ndifferent devices.\n\n"
      ]
    },
    {
      "cell_type": "code",
      "execution_count": null,
      "metadata": {
        "collapsed": false
      },
      "outputs": [],
      "source": [
        "import numpy as np\n\ntarget = tvm.target.Target(\"llvm\")\nex = tvm.compile(mod, target)\ndevice = tvm.cpu()\nvm = relax.VirtualMachine(ex, device)\ndata = np.random.rand(1, 784).astype(\"float32\")\ntvm_data = tvm.runtime.tensor(data, device=device)\nparams = [np.random.rand(*param.shape).astype(\"float32\") for _, param in param_spec]\nparams = [tvm.runtime.tensor(param, device=device) for param in params]\nprint(vm[\"forward\"](tvm_data, *params).numpy())"
      ]
    },
    {
      "cell_type": "markdown",
      "metadata": {},
      "source": [
        "Our goal is to bring machine learning to the application with any language of interest,\nwith the minimum runtime support.\n\n- Each function in IRModule becomes a runnable function in the runtime. For example in LLM\n  cases, we can call ``prefill`` and ``decode`` functions directly.\n\n```Python\nprefill_logits = vm[\"prefill\"](inputs, weight, kv_cache)\ndecoded_logits = vm[\"decode\"](inputs, weight, kv_cache)\n```\n- TVM runtime comes with native data structures, such as Tensor, can also have zero\n  copy exchange with existing ecosystem (DLPack exchange with PyTorch)\n\n```Python\n# Convert PyTorch tensor to TVM Tensor\nx_tvm = tvm.runtime.from_dlpack(x_torch.to_dlpack())\n# Convert TVM Tensor to PyTorch tensor\nx_torch = torch.from_dlpack(x_tvm.to_dlpack())\n```\n- TVM runtime works in non-python environments, so it works on settings such as mobile\n\n```C++\n// C++ snippet\nruntime::Module vm = ex.GetFunction(\"load_executable\")();\nvm.GetFunction(\"init\")(...);\nTensor out = vm.GetFunction(\"prefill\")(data, weight, kv_cache);\n```\n```Java\n// Java snippet\nModule vm = ex.getFunction(\"load_executable\").invoke();\nvm.getFunction(\"init\").pushArg(...).invoke;\nTensor out = vm.getFunction(\"prefill\").pushArg(data).pushArg(weight).pushArg(kv_cache).invoke();\n```\n"
      ]
    },
    {
      "cell_type": "markdown",
      "metadata": {},
      "source": [
        "## Read next\nThis tutorial demonstrates the overall flow of using Apache TVM to compile a neural network model.\nFor more advanced or specific topics, please refer to the following tutorials\n\n\n"
      ]
    }
  ],
  "metadata": {
    "kernelspec": {
      "display_name": "Python 3",
      "language": "python",
      "name": "python3"
    },
    "language_info": {
      "codemirror_mode": {
        "name": "ipython",
        "version": 3
      },
      "file_extension": ".py",
      "mimetype": "text/x-python",
      "name": "python",
      "nbconvert_exporter": "python",
      "pygments_lexer": "ipython3",
      "version": "3.9.22"
    }
  },
  "nbformat": 4,
  "nbformat_minor": 0
}