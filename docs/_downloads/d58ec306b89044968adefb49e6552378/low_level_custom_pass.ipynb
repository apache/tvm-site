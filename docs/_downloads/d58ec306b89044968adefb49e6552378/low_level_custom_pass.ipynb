{
  "cells": [
    {
      "cell_type": "code",
      "execution_count": null,
      "metadata": {
        "collapsed": false
      },
      "outputs": [],
      "source": [
        "%%shell\n# Installs the latest dev build of TVM from PyPI. If you wish to build\n# from source, see https://tvm.apache.org/docs/install/from_source.html\npip install apache-tvm --pre"
      ]
    },
    {
      "cell_type": "markdown",
      "metadata": {},
      "source": [
        "\n# Writing a Customized Pass\n**Author**: [Jian Weng](https://were.github.io)\n\nTVM is a framework that abstracts away the heterogenity of machine learning accelerators.\nSometimes users may want customize some analysis and IR transformations\nto adapt TVM to their own specialized hardware. This tutorial helps users write\na customized pass in TVM.\n\n## Prerequisites\n\nBefore reading this tutorial, we assume readers have already known these topics well:\n\n- Writing an algorithm in TVM and schedule it. Otherwise, see example tutorials like\n  `opt-gemm`.\n- The basic structure of HalideIR. Otherwise, see ``HalideIR/src/ir/IR.h`` to learn what\n  attributes of IR nodes are defined.\n- Visitor design pattern. Otherwise, check the\n  [Python AST module](https://docs.python.org/3/library/ast.html) to see how an AST\n  visitor is implemented.\n- How a Schedule is lowered to either an IRModule class or a LLVM module. Otherwise,\n  take a look at ``python/tvm/build_module.py`` to get some basics.\n"
      ]
    },
    {
      "cell_type": "code",
      "execution_count": null,
      "metadata": {
        "collapsed": false
      },
      "outputs": [],
      "source": [
        "import tvm\nfrom tvm import te\nimport numpy as np"
      ]
    },
    {
      "cell_type": "markdown",
      "metadata": {},
      "source": [
        "We first write a very simple vector add and build it with the default schedule. Then, we use\nour customized lowering pass to manipulate the IR directly instead of using schedule primitives.\n\n\n"
      ]
    },
    {
      "cell_type": "code",
      "execution_count": null,
      "metadata": {
        "collapsed": false
      },
      "outputs": [],
      "source": [
        "n = tvm.tir.const(128, \"int32\")\na = te.placeholder((n,), name=\"a\")\nb = te.placeholder((n,), name=\"b\")\nc = te.compute((n,), lambda i: a[i] + b[i], name=\"c\")\n\nsch = te.create_schedule(c.op)\nir = tvm.lower(sch, [a, b, c])\nprint(ir)"
      ]
    },
    {
      "cell_type": "markdown",
      "metadata": {},
      "source": [
        "## Writing a Pass\nEssentially, an \"IR transformation pass\" is a function which maps a statement to a new statement.\nThus, we define this vectorize function and implement it step by step.\n\n\n"
      ]
    },
    {
      "cell_type": "markdown",
      "metadata": {},
      "source": [
        "TVM already provides two class for users to both analyze and transform IR.\n\n### IR Visitor\nWe can use ``tvm.tir.stmt_functor.post_order_visit(stmt, func)`` to gather information from the Halide IR.\n``func`` is a function callback. This function will be called before exiting the current IR node,\ni.e. post-order visit. Then we leverage side effects to store the result of IR visit, because the\nreturn value of ``func`` will be ignored.\n\n<div class=\"alert alert-info\"><h4>Note</h4><p>You MUST use some array to store the result of IR visit. Even the value is a single variable.\n    This is mainly due to the constraints in the Python-C runtime. The variable values will be\n    refreshed every recursion but the array values will be preserved.</p></div>\n\n\n"
      ]
    },
    {
      "cell_type": "code",
      "execution_count": null,
      "metadata": {
        "collapsed": false
      },
      "outputs": [],
      "source": [
        "loops = []\n\n\ndef find_width8(op):\n    \"\"\"Find all the 'tir.For' nodes whose extent can be divided by 8.\"\"\"\n    if isinstance(op, tvm.tir.For):\n        if isinstance(op.extent, tvm.tir.IntImm):\n            if op.extent.value % 8 == 0:\n                loops.append(op)"
      ]
    },
    {
      "cell_type": "markdown",
      "metadata": {},
      "source": [
        "### IR Transformation\nThe transformation interface is slightly different from the visitor interface. There is only a\npost-order callback in the visitor, but transformation visitor supports both a pre-order and a\npost-order callback. If you want to keep the origin IR node, just return None. If you want to\nchange the current node to some node, use TVM IR maker interface to build it and return\nthis value.\n\n<div class=\"alert alert-info\"><h4>Note</h4><p>If the pre-order function is called and returns a value which is not None, the post-order\n    function will be skipped.</p></div>\n\n\n"
      ]
    },
    {
      "cell_type": "code",
      "execution_count": null,
      "metadata": {
        "collapsed": false
      },
      "outputs": [],
      "source": [
        "def vectorize8(op):\n    \"\"\"Split can vectorize the loops found in `find_width8`.\"\"\"\n    if op in loops:\n        extent = op.extent.value\n        name = op.loop_var.name\n        lo, li = te.var(name + \".outer\"), te.var(name + \".inner\")\n        body = tvm.tir.stmt_functor.substitute(op.body, {op.loop_var: lo * 8 + li})\n        body = tvm.tir.For(li, 0, 8, tvm.tir.ForKind.VECTORIZED, body)\n        body = tvm.tir.For(lo, 0, extent // 8, tvm.tir.ForKind.SERIAL, body)\n        return body\n    return None\n\n\n@tvm.tir.transform.prim_func_pass(opt_level=0)\ndef vectorize(f, mod, ctx):\n    global loops\n\n    tvm.tir.stmt_functor.post_order_visit(f.body, find_width8)\n\n    if not loops:\n        return f\n\n    # The last list arugment indicates what kinds of nodes will be transformed.\n    # Thus, in this case only `For` nodes will call `vectorize8`\n    return f.with_body(tvm.tir.stmt_functor.ir_transform(f.body, None, vectorize8, [\"tir.For\"]))"
      ]
    },
    {
      "cell_type": "markdown",
      "metadata": {},
      "source": [
        "## Glue to Lowering\nSo far, we are done with writing this IR transformation pass. What we need to do next is to glue\nthis pass to TVM's lower pass.\n\nIn this case, we inject the pass written above into the TVM standard lowering\npass by feeding **a list of tuple** as argument to ``tir.add_lower_pass``. \"Tuple\" indicates different\nphases of lowering. In TVM, there are four phases of lowering and user-customized ones will be\ncalled after each phase is done.\n\n<div class=\"alert alert-info\"><h4>Note</h4><p>Here are the essential transformations done by each phase:\n      - Phase 0 generates the raw IR and loop levels.\n      - Phase 1 flattens the array storage.\n      - Phase 2 transforms loops, like unroll, vectorization and thread-binding.\n      - Phase 3 does some cleanup work.</p></div>\n\nThus, a good place to put this transformation pass is just after Phase 1.\n\n\n"
      ]
    },
    {
      "cell_type": "code",
      "execution_count": null,
      "metadata": {
        "collapsed": false
      },
      "outputs": [],
      "source": [
        "with tvm.transform.PassContext(config={\"tir.add_lower_pass\": [(1, vectorize)]}):\n    print(tvm.lower(sch, [a, b, c]))"
      ]
    },
    {
      "cell_type": "markdown",
      "metadata": {},
      "source": [
        "## Quick View\nThis tutorial gives a quick view of writing a customized IR transformation pass:\n- Use ``tvm.tir.stmt_functor.post_order_visit`` to gather information on each IR nodes.\n- Use ``tvm.tir.stmt_functor.ir_transform`` to transform IR nodes.\n- Wrap up two above to write an IR-transformation function.\n- Use ``tvm.transform.PassContext`` to put this function to TVM lowering pass\n\n\n"
      ]
    }
  ],
  "metadata": {
    "kernelspec": {
      "display_name": "Python 3",
      "language": "python",
      "name": "python3"
    },
    "language_info": {
      "codemirror_mode": {
        "name": "ipython",
        "version": 3
      },
      "file_extension": ".py",
      "mimetype": "text/x-python",
      "name": "python",
      "nbconvert_exporter": "python",
      "pygments_lexer": "ipython3",
      "version": "3.7.5"
    }
  },
  "nbformat": 4,
  "nbformat_minor": 0
}