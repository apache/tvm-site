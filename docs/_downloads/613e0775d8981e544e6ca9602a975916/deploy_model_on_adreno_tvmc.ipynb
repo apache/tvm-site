{
  "cells": [
    {
      "cell_type": "code",
      "execution_count": null,
      "metadata": {
        "collapsed": false
      },
      "outputs": [],
      "source": [
        "%%shell\n# Installs the latest dev build of TVM from PyPI. If you wish to build\n# from source, see https://tvm.apache.org/docs/install/from_source.html\npip install apache-tvm --pre"
      ]
    },
    {
      "cell_type": "markdown",
      "metadata": {},
      "source": [
        "\n\n# Deploy the Pretrained Model on Adreno\u2122 with tvmc Interface\n**Author**: Siva Rama Krishna\n\nThis article is a step-by-step tutorial to deploy pretrained Keras resnet50 model on Adreno\u2122.\n\nBesides that, you should have TVM built for Android.\nSee the following instructions on how to build it and setup RPC environment.\n\n[Deploy to Adreno GPU](https://tvm.apache.org/docs/how_to/deploy/adreno.html)\n"
      ]
    },
    {
      "cell_type": "code",
      "execution_count": null,
      "metadata": {
        "collapsed": false
      },
      "outputs": [],
      "source": [
        "import os\nimport tvm\nimport numpy as np\nfrom tvm import relay\nfrom tvm.driver import tvmc\nfrom tvm.driver.tvmc.model import TVMCPackage\nfrom tvm.contrib import utils"
      ]
    },
    {
      "cell_type": "markdown",
      "metadata": {},
      "source": [
        "## Configuration\nSpecify Adreno target before compiling to generate texture\nleveraging kernels and get all the benefits of textures\nNote: This generated example running on our x86 server for demonstration.\nIf running it on the Android device, we need to\nspecify its instruction set. Set :code:`local_demo` to False if you want\nto run this tutorial with a real device over rpc.\n\n"
      ]
    },
    {
      "cell_type": "code",
      "execution_count": null,
      "metadata": {
        "collapsed": false
      },
      "outputs": [],
      "source": [
        "local_demo = True\n\n# by default on CPU target will execute.\n# select 'llvm', 'opencl' and 'opencl -device=adreno'\ntarget = \"llvm\"\n\n# Change target configuration.\n# Run `adb shell cat /proc/cpuinfo` to find the arch.\narch = \"arm64\"\ntarget_host = \"llvm -mtriple=%s-linux-android\" % arch\n\n# Auto tuning is compute and time taking task, hence disabling for default run. Please enable it if required.\nis_tuning = False\ntune_log = \"adreno-resnet50.log\"\n\n# To enable OpenCLML accelerated operator library.\nenable_clml = False\ncross_compiler = (\n    os.getenv(\"ANDROID_NDK_HOME\", \"\")\n    + \"/toolchains/llvm/prebuilt/linux-x86_64/bin/aarch64-linux-android28-clang\"\n)"
      ]
    },
    {
      "cell_type": "markdown",
      "metadata": {},
      "source": [
        "## Make a Keras Resnet50 Model\n\n"
      ]
    },
    {
      "cell_type": "code",
      "execution_count": null,
      "metadata": {
        "collapsed": false
      },
      "outputs": [],
      "source": [
        "from tensorflow.keras.applications.resnet50 import ResNet50\n\ntmp_path = utils.tempdir()\nmodel_file_name = tmp_path.relpath(\"resnet50.h5\")\n\nmodel = ResNet50(include_top=True, weights=\"imagenet\", input_shape=(224, 224, 3), classes=1000)\nmodel.save(model_file_name)"
      ]
    },
    {
      "cell_type": "markdown",
      "metadata": {},
      "source": [
        "## Load Model\nConvert a model from any framework to a tvm relay module.\ntvmc.load supports models from any framework (like tensorflow saves_model, onnx, tflite ..etc) and auto detects the filetype.\n\n"
      ]
    },
    {
      "cell_type": "code",
      "execution_count": null,
      "metadata": {
        "collapsed": false
      },
      "outputs": [],
      "source": [
        "tvmc_model = tvmc.load(model_file_name)\n\nprint(tvmc_model.mod)\n\n# tvmc_model consists of tvmc_mode.mod which is relay module and tvmc_model.params which parms of the module."
      ]
    },
    {
      "cell_type": "markdown",
      "metadata": {},
      "source": [
        "## AutoTuning\nNow, the below api can be used for autotuning the model for any target.\nTuning required RPC setup and please refer to\n[Deploy to Adreno GPU](https://tvm.apache.org/docs/how_to/deploy/adreno.html)\n\n"
      ]
    },
    {
      "cell_type": "code",
      "execution_count": null,
      "metadata": {
        "collapsed": false
      },
      "outputs": [],
      "source": [
        "rpc_tracker_host = os.environ.get(\"TVM_TRACKER_HOST\", \"127.0.0.1\")\nrpc_tracker_port = int(os.environ.get(\"TVM_TRACKER_PORT\", 9190))\nrpc_key = \"android\"\nrpc_tracker = rpc_tracker_host + \":\" + str(rpc_tracker_port)\n\n# Auto tuning is compute intensive and time taking task.\n# It is set to False in above configuration as this script runs in x86 for demonstration.\n# Please to set :code:`is_tuning` to True to enable auto tuning.\n\n# Also, :code:`test_target` is set to :code:`llvm` as this example to make compatible for x86 demonstration.\n# Please change it to :code:`opencl` or :code:`opencl -device=adreno` for RPC target in configuration above.\n\nif is_tuning:\n    tvmc.tune(\n        tvmc_model,\n        target=target,\n        tuning_records=tune_log,\n        target_host=target_host,\n        hostname=rpc_tracker_host,\n        port=rpc_tracker_port,\n        rpc_key=rpc_key,\n        tuner=\"xgb\",\n        repeat=30,\n        trials=3,\n        early_stopping=0,\n    )"
      ]
    },
    {
      "cell_type": "markdown",
      "metadata": {},
      "source": [
        "## Compilation\nCompilation to produce tvm artifacts\n\n"
      ]
    },
    {
      "cell_type": "code",
      "execution_count": null,
      "metadata": {
        "collapsed": false
      },
      "outputs": [],
      "source": [
        "# This generated example running on our x86 server for demonstration.\n# To deply and tun on real target over RPC please set :code:`local_demo` to False in above configuration sestion.\n\n# OpenCLML offloading will try to accelerate supported operators by using OpenCLML proprietory operator library.\n# By default :code:`enable_clml` is set to False in above configuration section.\n\nif not enable_clml:\n    if local_demo:\n        tvmc_package = tvmc.compile(\n            tvmc_model,\n            target=target,\n        )\n    else:\n        tvmc_package = tvmc.compile(\n            tvmc_model,\n            target=target,\n            target_host=target_host,\n            cross=cross_compiler,\n            tuning_records=tune_log,\n        )\nelse:\n    # Altrernatively, we can save the compilation output and save it as a TVMCPackage.\n    # This way avoids loading of compiled module without compiling again.\n    target = target + \", clml\"\n    pkg_path = tmp_path.relpath(\"keras-resnet50.tar\")\n    tvmc.compile(\n        tvmc_model,\n        target=target,\n        target_host=target_host,\n        cross=cross_compiler,\n        tuning_records=tune_log,\n        package_path=pkg_path,\n    )\n\n    # Load the compiled package\n    tvmc_package = TVMCPackage(package_path=pkg_path)\n\n# tvmc_package consists of tvmc_package.lib_path, tvmc_package.graph, tvmc_package.params\n# Saved TVMPackage is nothing but tar archive with mod.so, mod.json and mod.params."
      ]
    },
    {
      "cell_type": "markdown",
      "metadata": {},
      "source": [
        "## Deploy & Run\nDeploy and run the compiled model on RPC\nLet tvmc fill inputs using random\n\n"
      ]
    },
    {
      "cell_type": "code",
      "execution_count": null,
      "metadata": {
        "collapsed": false
      },
      "outputs": [],
      "source": [
        "# Run on RPC setup\nif local_demo:\n    result = tvmc.run(tvmc_package, device=\"cpu\", fill_mode=\"random\")\nelse:\n    result = tvmc.run(\n        tvmc_package,\n        device=\"cl\",\n        rpc_key=rpc_key,\n        hostname=rpc_tracker_host,\n        port=rpc_tracker_port,\n        fill_mode=\"random\",\n    )\n\n# result is a dictionary of outputs.\nprint(\"Result:\", result)"
      ]
    }
  ],
  "metadata": {
    "kernelspec": {
      "display_name": "Python 3",
      "language": "python",
      "name": "python3"
    },
    "language_info": {
      "codemirror_mode": {
        "name": "ipython",
        "version": 3
      },
      "file_extension": ".py",
      "mimetype": "text/x-python",
      "name": "python",
      "nbconvert_exporter": "python",
      "pygments_lexer": "ipython3",
      "version": "3.7.5"
    }
  },
  "nbformat": 4,
  "nbformat_minor": 0
}