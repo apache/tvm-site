{
  "cells": [
    {
      "cell_type": "code",
      "execution_count": null,
      "metadata": {
        "collapsed": false
      },
      "outputs": [],
      "source": [
        "%%shell\n# Installs the latest dev build of TVM from PyPI. If you wish to build\n# from source, see https://tvm.apache.org/docs/install/from_source.html\npip install apache-tvm --pre"
      ]
    },
    {
      "cell_type": "markdown",
      "metadata": {},
      "source": [
        "\n# Use Relay Visualizer to Visualize Relay\n**Author**: [Chi-Wei Wang](https://github.com/chiwwang)\n\nRelay IR module can contain lots of operations. Although an individual\noperation is usually easy to understand, putting them together can cause\na complicated, hard-to-read graph. Things can get even worse with optimization-passes\ncoming into play.\n\nThis utility visualizes an IR module as nodes and edges. It defines a set of interfaces including\nparser, plotter(renderer), graph, node, and edges.\nA default parser is provided. Users can implement their own renderers to render the graph.\n\nHere we use a renderer rendering graph in the text-form.\nIt is a lightweight, AST-like visualizer, inspired by [clang ast-dump](https://clang.llvm.org/docs/IntroductionToTheClangAST.html).\nWe will introduce how to implement customized parsers and renderers through interface classes.\nTo install dependencies, run:\n"
      ]
    },
    {
      "cell_type": "code",
      "execution_count": null,
      "metadata": {
        "collapsed": false
      },
      "outputs": [],
      "source": [
        "%%shell\npip install graphviz"
      ]
    },
    {
      "cell_type": "markdown",
      "metadata": {},
      "source": [
        "For more details, please refer to :py:mod:`tvm.contrib.relay_viz`.\n"
      ]
    },
    {
      "cell_type": "code",
      "execution_count": null,
      "metadata": {
        "collapsed": false
      },
      "outputs": [],
      "source": [
        "from typing import (\n    Dict,\n    Union,\n    Tuple,\n    List,\n)\nimport tvm\nfrom tvm import relay\nfrom tvm.contrib import relay_viz\nfrom tvm.contrib.relay_viz.interface import (\n    VizEdge,\n    VizNode,\n    VizParser,\n)\nfrom tvm.contrib.relay_viz.terminal import (\n    TermGraph,\n    TermPlotter,\n    TermVizParser,\n)"
      ]
    },
    {
      "cell_type": "markdown",
      "metadata": {},
      "source": [
        "## Define a Relay IR Module with multiple GlobalVar\nLet's build an example Relay IR Module containing multiple ``GlobalVar``.\nWe define an ``add`` function and call it in the main function.\n\n"
      ]
    },
    {
      "cell_type": "code",
      "execution_count": null,
      "metadata": {
        "collapsed": false
      },
      "outputs": [],
      "source": [
        "data = relay.var(\"data\")\nbias = relay.var(\"bias\")\nadd_op = relay.add(data, bias)\nadd_func = relay.Function([data, bias], add_op)\nadd_gvar = relay.GlobalVar(\"AddFunc\")\n\ninput0 = relay.var(\"input0\")\ninput1 = relay.var(\"input1\")\ninput2 = relay.var(\"input2\")\nadd_01 = relay.Call(add_gvar, [input0, input1])\nadd_012 = relay.Call(add_gvar, [input2, add_01])\nmain_func = relay.Function([input0, input1, input2], add_012)\nmain_gvar = relay.GlobalVar(\"main\")\n\nmod = tvm.IRModule({main_gvar: main_func, add_gvar: add_func})"
      ]
    },
    {
      "cell_type": "markdown",
      "metadata": {},
      "source": [
        "## Render the graph with Relay Visualizer on the terminal\nThe terminal can show a Relay IR module in text similar to clang AST-dump.\nWe should see ``main`` and ``AddFunc`` function. ``AddFunc`` is called twice in the ``main`` function.\n\n"
      ]
    },
    {
      "cell_type": "code",
      "execution_count": null,
      "metadata": {
        "collapsed": false
      },
      "outputs": [],
      "source": [
        "viz = relay_viz.RelayVisualizer(mod)\nviz.render()"
      ]
    },
    {
      "cell_type": "markdown",
      "metadata": {},
      "source": [
        "## Customize Parser for Interested Relay Types\nSometimes we want to emphasize interested information, or parse things differently for a specific usage.\nIt is possible to provide customized parsers as long as it obeys the interface.\nHere demonstrate how to customize parsers for ``relay.var``.\nWe need to implement abstract interface :py:class:`tvm.contrib.relay_viz.interface.VizParser`.\n\n"
      ]
    },
    {
      "cell_type": "code",
      "execution_count": null,
      "metadata": {
        "collapsed": false
      },
      "outputs": [],
      "source": [
        "class YourAwesomeParser(VizParser):\n    def __init__(self):\n        self._delegate = TermVizParser()\n\n    def get_node_edges(\n        self,\n        node: relay.Expr,\n        relay_param: Dict[str, tvm.runtime.NDArray],\n        node_to_id: Dict[relay.Expr, str],\n    ) -> Tuple[Union[VizNode, None], List[VizEdge]]:\n\n        if isinstance(node, relay.Var):\n            node = VizNode(node_to_id[node], \"AwesomeVar\", f\"name_hint {node.name_hint}\")\n            # no edge is introduced. So return an empty list.\n            return node, []\n\n        # delegate other types to the other parser.\n        return self._delegate.get_node_edges(node, relay_param, node_to_id)"
      ]
    },
    {
      "cell_type": "markdown",
      "metadata": {},
      "source": [
        "Pass the parser and an interested renderer to visualizer.\nHere we just the terminal renderer.\n\n"
      ]
    },
    {
      "cell_type": "code",
      "execution_count": null,
      "metadata": {
        "collapsed": false
      },
      "outputs": [],
      "source": [
        "viz = relay_viz.RelayVisualizer(mod, {}, TermPlotter(), YourAwesomeParser())\nviz.render()"
      ]
    },
    {
      "cell_type": "markdown",
      "metadata": {},
      "source": [
        "## Customization around Graph and Plotter\nBesides parsers, we can also customize graph and renderers by implementing\nabstract class :py:class:`tvm.contrib.relay_viz.interface.VizGraph` and\n:py:class:`tvm.contrib.relay_viz.interface.Plotter`.\nHere we override the ``TermGraph`` defined in ``terminal.py`` for easier demo.\nWe add a hook duplicating above ``AwesomeVar``, and make ``TermPlotter`` use the new class.\n\n"
      ]
    },
    {
      "cell_type": "code",
      "execution_count": null,
      "metadata": {
        "collapsed": false
      },
      "outputs": [],
      "source": [
        "class AwesomeGraph(TermGraph):\n    def node(self, viz_node):\n        # add the node first\n        super().node(viz_node)\n        # if it's AwesomeVar, duplicate it.\n        if viz_node.type_name == \"AwesomeVar\":\n            duplicated_id = f\"duplicated_{viz_node.identity}\"\n            duplicated_type = \"double AwesomeVar\"\n            super().node(VizNode(duplicated_id, duplicated_type, \"\"))\n            # connect the duplicated var to the original one\n            super().edge(VizEdge(duplicated_id, viz_node.identity))\n\n\n# override TermPlotter to use `AwesomeGraph` instead\nclass AwesomePlotter(TermPlotter):\n    def create_graph(self, name):\n        self._name_to_graph[name] = AwesomeGraph(name)\n        return self._name_to_graph[name]\n\n\nviz = relay_viz.RelayVisualizer(mod, {}, AwesomePlotter(), YourAwesomeParser())\nviz.render()"
      ]
    },
    {
      "cell_type": "markdown",
      "metadata": {},
      "source": [
        "## Summary\nThis tutorial demonstrates the usage of Relay Visualizer and customization.\nThe class :py:class:`tvm.contrib.relay_viz.RelayVisualizer` is composed of interfaces\ndefined in ``interface.py``.\n\nIt is aimed for quick look-then-fix iterations.\nThe constructor arguments are intended to be simple, while the customization is still\npossible through a set of interface classes.\n\n\n"
      ]
    }
  ],
  "metadata": {
    "kernelspec": {
      "display_name": "Python 3",
      "language": "python",
      "name": "python3"
    },
    "language_info": {
      "codemirror_mode": {
        "name": "ipython",
        "version": 3
      },
      "file_extension": ".py",
      "mimetype": "text/x-python",
      "name": "python",
      "nbconvert_exporter": "python",
      "pygments_lexer": "ipython3",
      "version": "3.7.5"
    }
  },
  "nbformat": 4,
  "nbformat_minor": 0
}