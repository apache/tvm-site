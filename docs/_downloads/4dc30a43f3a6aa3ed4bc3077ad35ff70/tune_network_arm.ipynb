{
  "cells": [
    {
      "cell_type": "code",
      "execution_count": null,
      "metadata": {
        "collapsed": false
      },
      "outputs": [],
      "source": [
        "%%shell\n# Installs the latest dev build of TVM from PyPI. If you wish to build\n# from source, see https://tvm.apache.org/docs/install/from_source.html\npip install apache-tvm --pre"
      ]
    },
    {
      "cell_type": "markdown",
      "metadata": {},
      "source": [
        "\n# Auto-scheduling a Neural Network for ARM CPU\n**Author**: [Thierry Moreau](https://github.com/tmoreau89),             [Lianmin Zheng](https://github.com/merrymercy),             [Chengfan Jia](https://github.com/jcf94/)\n\nAuto-tuning for specific devices and workloads is critical for getting the\nbest performance. This is a tutorial on how to tune a whole neural\nnetwork for ARM CPU with the auto-scheduler via RPC.\n\nTo auto-tune a neural network, we partition the network into small subgraphs and\ntune them independently. Each subgraph is treated as one search task.\nA task scheduler slices the time and dynamically allocates time resources to\nthese tasks. The task scheduler predicts the impact of each task on the end-to-end\nexecution time and prioritizes the one that can reduce the execution time the most.\n\nFor each subgraph, we use the compute declaration in :code:`tvm/python/topi` to\nget the computational DAG in the tensor expression form.\nWe then use the auto-scheduler to construct a search space of this DAG and search\nfor good schedules (low-level optimizations).\n\nDifferent from the template-based `autotvm <tutorials-autotvm-sec>` which relies on\nmanual templates to define the search space, the auto-scheduler does not require any\nschedule templates. In other words, the auto-scheduler only uses the compute declarations\nin :code:`tvm/python/topi` and does not use existing schedule templates.\n\nNote that this tutorial will not run on Windows or recent versions of macOS. To\nget it to run, you will need to wrap the body of this tutorial in a :code:`if\n__name__ == \"__main__\":` block.\n"
      ]
    },
    {
      "cell_type": "code",
      "execution_count": null,
      "metadata": {
        "collapsed": false
      },
      "outputs": [],
      "source": [
        "import numpy as np\nimport os\n\nimport tvm\nfrom tvm import relay, auto_scheduler\nfrom tvm.relay import data_dep_optimization as ddo\nimport tvm.relay.testing\nfrom tvm.contrib import graph_executor\nfrom tvm.contrib.utils import tempdir"
      ]
    },
    {
      "cell_type": "markdown",
      "metadata": {},
      "source": [
        "## Define a Network\nFirst, we need to define the network with relay frontend API.\nWe can load some pre-defined network from :code:`tvm.relay.testing`.\nWe can also load models from MXNet, ONNX, PyTorch, and TensorFlow\n(see `front end tutorials<tutorial-frontend>`).\n\nFor convolutional neural networks, although auto-scheduler can work correctly\nwith any layout, we found the best performance is typically achieved with NHWC layout.\nWe also implemented more optimizations for NHWC layout with the auto-scheduler.\nSo it is recommended to convert your models to NHWC layout to use the auto-scheduler.\nYou can use `ConvertLayout <convert-layout-usage>` pass to do the layout conversion in TVM.\n\n"
      ]
    },
    {
      "cell_type": "code",
      "execution_count": null,
      "metadata": {
        "collapsed": false
      },
      "outputs": [],
      "source": [
        "def get_network(name, batch_size, layout=\"NHWC\", dtype=\"float32\", use_sparse=False):\n    \"\"\"Get the symbol definition and random weight of a network\"\"\"\n\n    # auto-scheduler prefers NHWC layout\n    if layout == \"NHWC\":\n        image_shape = (224, 224, 3)\n    elif layout == \"NCHW\":\n        image_shape = (3, 224, 224)\n    else:\n        raise ValueError(\"Invalid layout: \" + layout)\n\n    input_shape = (batch_size,) + image_shape\n    output_shape = (batch_size, 1000)\n\n    if name.startswith(\"resnet-\"):\n        n_layer = int(name.split(\"-\")[1])\n        mod, params = relay.testing.resnet.get_workload(\n            num_layers=n_layer,\n            batch_size=batch_size,\n            layout=layout,\n            dtype=dtype,\n            image_shape=image_shape,\n        )\n    elif name.startswith(\"resnet3d-\"):\n        n_layer = int(name.split(\"-\")[1])\n        mod, params = relay.testing.resnet.get_workload(\n            num_layers=n_layer,\n            batch_size=batch_size,\n            layout=layout,\n            dtype=dtype,\n            image_shape=image_shape,\n        )\n    elif name == \"mobilenet\":\n        mod, params = relay.testing.mobilenet.get_workload(\n            batch_size=batch_size, layout=layout, dtype=dtype, image_shape=image_shape\n        )\n    elif name == \"squeezenet_v1.1\":\n        assert layout == \"NCHW\", \"squeezenet_v1.1 only supports NCHW layout\"\n        mod, params = relay.testing.squeezenet.get_workload(\n            version=\"1.1\",\n            batch_size=batch_size,\n            dtype=dtype,\n            image_shape=image_shape,\n        )\n    elif name == \"inception_v3\":\n        input_shape = (batch_size, 3, 299, 299) if layout == \"NCHW\" else (batch_size, 299, 299, 3)\n        mod, params = relay.testing.inception_v3.get_workload(batch_size=batch_size, dtype=dtype)\n    elif name == \"mxnet\":\n        # an example for mxnet model\n        from mxnet.gluon.model_zoo.vision import get_model\n\n        assert layout == \"NCHW\"\n\n        block = get_model(\"resnet50_v1\", pretrained=True)\n        mod, params = relay.frontend.from_mxnet(block, shape={\"data\": input_shape}, dtype=dtype)\n        net = mod[\"main\"]\n        net = relay.Function(\n            net.params, relay.nn.softmax(net.body), None, net.type_params, net.attrs\n        )\n        mod = tvm.IRModule.from_expr(net)\n    elif name == \"mlp\":\n        mod, params = relay.testing.mlp.get_workload(\n            batch_size=batch_size, dtype=dtype, image_shape=image_shape, num_classes=1000\n        )\n    else:\n        raise ValueError(\"Network not found.\")\n\n    if use_sparse:\n        from tvm.topi.sparse.utils import convert_model_dense_to_sparse\n\n        mod, params = convert_model_dense_to_sparse(mod, params, random_params=True)\n\n    return mod, params, input_shape, output_shape"
      ]
    },
    {
      "cell_type": "markdown",
      "metadata": {},
      "source": [
        "## Start RPC Tracker\nTVM uses RPC session to communicate with ARM boards.\nDuring tuning, the tuner will send the generated code to the board and\nmeasure the speed of code on the board.\n\nTo scale up the tuning, TVM uses RPC Tracker to manage distributed devices.\nThe RPC Tracker is a centralized controller node. We can register all devices to\nthe tracker. For example, if we have 10 phones, we can register all of them\nto the tracker, and run 10 measurements in parallel, accelerating the tuning process.\n\nTo start an RPC tracker, run this command on the host machine. The tracker is\nrequired during the whole tuning process, so we need to open a new terminal for\nthis command:\n\n```bash\npython -m tvm.exec.rpc_tracker --host=0.0.0.0 --port=9190\n```\nThe expected output is\n\n```bash\nINFO:RPCTracker:bind to 0.0.0.0:9190\n```\n"
      ]
    },
    {
      "cell_type": "markdown",
      "metadata": {},
      "source": [
        "## Register Devices to RPC Tracker\nNow we can register our devices to the tracker. The first step is to\nbuild the TVM runtime for the ARM devices.\n\n* For Linux:\n  Follow this section `build-tvm-runtime-on-device` to build\n  the TVM runtime on the device. Then register the device to tracker by\n\n```bash\npython -m tvm.exec.rpc_server --tracker=[HOST_IP]:9190 --key=rasp4b-64\n```\n  (replace :code:`[HOST_IP]` with the IP address of your host machine)\n\n* For Android:\n  Follow this [readme page](https://github.com/apache/tvm/tree/main/apps/android_rpc) to\n  install the TVM RPC APK on the android device. Make sure you can pass the android rpc test.\n  Then you have already registered your device. During tuning, you have to go to developer option\n  and enable \"Keep screen awake during changing\" and charge your phone to make it stable.\n\nAfter registering devices, we can confirm it by querying rpc_tracker\n\n```bash\npython -m tvm.exec.query_rpc_tracker --host=0.0.0.0 --port=9190\n```\nFor example, if we have 2 Huawei mate10 pro, 11 Raspberry Pi 4B with 64bit OS, and 2 rk3399,\nthe output can be\n\n```bash\nQueue Status\n----------------------------------\nkey          total  free  pending\n----------------------------------\nmate10pro    2      2     0\nrk3399       2      2     0\nrasp4b-64    11     11    0\n----------------------------------\n```\nYou can register multiple devices to the tracker to accelerate the measurement in tuning.\n\n"
      ]
    },
    {
      "cell_type": "markdown",
      "metadata": {},
      "source": [
        "## Set Tuning Options\nBefore tuning, we should apply some configurations. Here I use a Raspberry Pi 4b 4GB board\nas example with a 64bit OS (Ubuntu 20.04). In your setting, you should modify the target\nand device_key accordingly.\nset :code:`use_ndk` to True if you use android phone.\n\n"
      ]
    },
    {
      "cell_type": "code",
      "execution_count": null,
      "metadata": {
        "collapsed": false
      },
      "outputs": [],
      "source": [
        "#### DEVICE CONFIG ####\n\n# Replace \"aarch64-linux-gnu\" with the correct target of your board.\n# This target is used for cross compilation. You can query it by :code:`gcc -v` on your device.\n# FIXME(tmoreau89, merrymercy): We leave '-device=arm_cpu' out of the target string\n#                               because we're sharing x86 op strategy.\ntarget = tvm.target.Target(\"llvm -mtriple=aarch64-linux-gnu -mattr=+neon\")\n\n# Also replace this with the device key, rpc host and rpc port in your tracker\ndevice_key = \"rasp4b-64\"\nrpc_host = \"127.0.0.1\"\nrpc_port = 9190\n\n# Set this to True if you use ndk tools for cross compiling\n# And also set the environment variable below to point to the cross compiler\nuse_ndk = False\n# os.environ[\"TVM_NDK_CC\"] = \"/usr/bin/aarch64-linux-gnu-g++\"\n\n#### TUNING OPTION ####\nnetwork = \"mobilenet\"\nuse_sparse = False\nbatch_size = 1\nlayout = \"NHWC\"\ndtype = \"float32\"\nlog_file = \"%s-%s-B%d-%s.json\" % (network, layout, batch_size, target.kind.name)"
      ]
    },
    {
      "cell_type": "markdown",
      "metadata": {},
      "source": [
        "## Extract Search Tasks\nNext, we extract the search tasks and their weights from a network.\nThe weight of a task is the number of appearances of the task's subgraph\nin the whole network.\nBy using the weight, we can approximate the end-to-end latency of the network\nas :code:`sum(latency[t] * weight[t])`, where :code:`latency[t]` is the\nlatency of a task and :code:`weight[t]` is the weight of the task.\nThe task scheduler will just optimize this objective.\n\n"
      ]
    },
    {
      "cell_type": "code",
      "execution_count": null,
      "metadata": {
        "collapsed": false
      },
      "outputs": [],
      "source": [
        "# Extract tasks from the network\nprint(\"Get model...\")\nmod, params, input_shape, output_shape = get_network(\n    network, batch_size, layout, dtype=dtype, use_sparse=use_sparse\n)\nprint(\"Extract tasks...\")\ntasks, task_weights = auto_scheduler.extract_tasks(mod[\"main\"], params, target)\n\nfor idx, task in enumerate(tasks):\n    print(\"========== Task %d  (workload key: %s) ==========\" % (idx, task.workload_key))\n    print(task.compute_dag)"
      ]
    },
    {
      "cell_type": "markdown",
      "metadata": {},
      "source": [
        "## Tuning and Evaluation\nNow, we set some options for tuning and launch the search tasks\n\n* :code:`num_measure_trials` is the number of measurement trials we can use during the tuning.\n  You can set it to a small number (e.g., 200) for a fast demonstrative run.\n  In practice, we recommend setting it around :code:`800 * len(tasks)`,\n  which is typically enough for the search to converge.\n  For example, there are 29 tasks in resnet-50, so we can set it as 20000.\n  You can adjust this parameter according to your time budget.\n* In addition, we use :code:`RecordToFile` to dump measurement records into a log file,\n  The measurement records can be used to query the history best, resume the search,\n  and do more analyses later.\n* see :any:`auto_scheduler.TuningOptions`,\n  :any:`auto_scheduler.LocalRunner` for more parameters.\n\nAfter auto-tuning, we can compile the network with the best schedules we found.\nAll measurement records are dumped into the log file during auto-tuning,\nso we can read the log file and load the best schedules.\n\n"
      ]
    },
    {
      "cell_type": "code",
      "execution_count": null,
      "metadata": {
        "collapsed": false
      },
      "outputs": [],
      "source": [
        "def tune_and_evaluate():\n    print(\"Begin tuning...\")\n    tuner = auto_scheduler.TaskScheduler(tasks, task_weights)\n    tune_option = auto_scheduler.TuningOptions(\n        num_measure_trials=200,  # change this to 20000 to achieve the best performance\n        builder=auto_scheduler.LocalBuilder(build_func=\"ndk\" if use_ndk else \"default\"),\n        runner=auto_scheduler.RPCRunner(\n            device_key,\n            host=rpc_host,\n            port=rpc_port,\n            timeout=30,\n            repeat=1,\n            min_repeat_ms=200,\n            enable_cpu_cache_flush=True,\n        ),\n        measure_callbacks=[auto_scheduler.RecordToFile(log_file)],\n    )\n\n    tuner.tune(tune_option)\n\n    # Compile with the history best\n    print(\"Compile...\")\n    with auto_scheduler.ApplyHistoryBest(log_file):\n        with tvm.transform.PassContext(\n            opt_level=3, config={\"relay.backend.use_auto_scheduler\": True}\n        ):\n            lib = relay.build(mod, target=target, params=params)\n\n    # Export library\n    tmp = tempdir()\n    if use_ndk:\n        from tvm.contrib import ndk\n\n        filename = \"net.so\"\n        lib.export_library(tmp.relpath(filename), ndk.create_shared)\n    else:\n        filename = \"net.tar\"\n        lib.export_library(tmp.relpath(filename))\n\n    # Upload module to device\n    print(\"Upload...\")\n    remote = auto_scheduler.utils.request_remote(device_key, rpc_host, rpc_port, timeout=10000)\n    remote.upload(tmp.relpath(filename))\n    rlib = remote.load_module(filename)\n\n    # Create graph executor\n    dev = remote.cpu()\n    module = graph_executor.GraphModule(rlib[\"default\"](dev))\n    data_tvm = tvm.nd.array((np.random.uniform(size=input_shape)).astype(dtype))\n    module.set_input(\"data\", data_tvm)\n\n    # Evaluate\n    print(\"Evaluate inference time cost...\")\n    print(module.benchmark(dev, repeat=3, min_repeat_ms=500))\n\n\n# We do not run the tuning in our webpage server since the server doesn't have a Raspberry Pi,\n# or device tracker running.\n# Uncomment the following line to run it by yourself.\n\n# tune_and_evaluate()"
      ]
    },
    {
      "cell_type": "markdown",
      "metadata": {},
      "source": [
        "<div class=\"alert alert-info\"><h4>Note</h4><p>Explaining the printed information during tuning\n\n  During the tuning, a lot of information will be printed on the console.\n  They are used for debugging purposes. The most important info is the output\n  of the task scheduler. The following table is a sample output.\n\n```c\n----------------------------------------------------------------------\n------------------------------  [ Task Scheduler ]\n----------------------------------------------------------------------\n|  ID  | Latency (ms) | Speed (GFLOPS) | Trials |\n-------------------------------------------------\n|    0 |        0.013 |           0.31 |     64 |\n|    1 |        0.845 |           2.43 |    448 |\n|    2 |        0.046 |          -0.00 |     64 |\n|    3 |        4.194 |          24.53 |   2112 |\n|    4 |        0.109 |           9.21 |     64 |\n|    5 |        1.759 |          29.27 |    896 |\n|    6 |        0.083 |           6.01 |     64 |\n|    7 |        3.084 |          33.38 |   7680 |\n|    8 |        0.136 |          14.78 |    384 |\n|    9 |        1.349 |          38.23 |    768 |\n|   10 |        0.133 |           7.55 |    128 |\n|   11 |        2.747 |          37.56 |   1536 |\n|   12 |        0.338 |          11.87 |    192 |\n|   13 |        1.295 |          40.00 |    704 |\n|   14 |        0.482 |           4.16 |    256 |\n|   15 |        2.686 |          38.56 |   1344 |\n|   16 |        0.884 |           9.08 |    448 |\n|   17 |        1.332 |          39.18 |    704 |\n|   18 |        1.045 |           3.84 |    576 |\n|   19 |        1.391 |          38.09 |    704 |\n|   20 |        0.777 |          10.34 |    448 |\n|   21 |        0.739 |          30.97 |    448 |\n-------------------------------------------------\n Estimated total latency: 38.347 ms      Trials: 19992   Used time : 19260 s     Next ID: 3\n```\n  This table lists the latency and (estimated) speed of all tasks.\n  It also lists the allocation of measurement trials for all tasks.\n  The last line prints the total weighted latency of these tasks,\n  which can be a rough estimation of the end-to-end execution time\n  of the network.\n  The last line also prints the total number of measurement trials,\n  total time spent on auto-tuning and the id of the next task to tune.\n\n  There will also be some \"dmlc::Error\"s errors, because the\n  auto-scheduler will try some invalid schedules.\n  You can safely ignore them if the tuning can continue, because these\n  errors are isolated from the main process.</p></div>\n\n\n"
      ]
    },
    {
      "cell_type": "markdown",
      "metadata": {},
      "source": [
        "<div class=\"alert alert-info\"><h4>Note</h4><p>Terminate the tuning earlier\n\n  You can terminate the tuning earlier by forcibly killing this process.\n  As long as you get at least one valid schedule for each task in the log file,\n  you should be able to do the compilation (the secion below).</p></div>\n\n\n"
      ]
    },
    {
      "cell_type": "markdown",
      "metadata": {},
      "source": [
        "## Other Tips\n1. During the tuning, the auto-scheduler needs to compile many programs and\n   extract feature from them. This part is CPU-intensive,\n   so a high-performance CPU with many cores is recommended for faster search.\n2. You can use :code:`python3 -m tvm.auto_scheduler.measure_record --mode distill -i log.json`\n   to distill the large log file and only save the best useful records.\n3. You can resume a search from the previous log file. You just need to\n   add a new argument :code:`load_log_file` when creating the task scheduler\n   in function :code:`run_tuning`. Say,\n   :code:`tuner = auto_scheduler.TaskScheduler(tasks, task_weights, load_log_file=log_file)`\n4. If you have multiple target CPUs, you can use all of them for measurements to\n   parallelize the measurements. Check this `section <tutorials-autotvm-scale-up-rpc-tracker>`\n   to learn how to use the RPC Tracker and RPC Server.\n   To use the RPC Tracker in auto-scheduler, replace the runner in :code:`TuningOptions`\n   with :any:`auto_scheduler.RPCRunner`.\n\n"
      ]
    }
  ],
  "metadata": {
    "kernelspec": {
      "display_name": "Python 3",
      "language": "python",
      "name": "python3"
    },
    "language_info": {
      "codemirror_mode": {
        "name": "ipython",
        "version": 3
      },
      "file_extension": ".py",
      "mimetype": "text/x-python",
      "name": "python",
      "nbconvert_exporter": "python",
      "pygments_lexer": "ipython3",
      "version": "3.7.5"
    }
  },
  "nbformat": 4,
  "nbformat_minor": 0
}