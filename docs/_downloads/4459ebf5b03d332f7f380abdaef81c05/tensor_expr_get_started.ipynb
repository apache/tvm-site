{
  "cells": [
    {
      "cell_type": "code",
      "execution_count": null,
      "metadata": {
        "collapsed": false
      },
      "outputs": [],
      "source": [
        "%%shell\n# Installs the latest dev build of TVM from PyPI. If you wish to build\n# from source, see https://tvm.apache.org/docs/install/from_source.html\npip install apache-tvm --pre"
      ]
    },
    {
      "cell_type": "markdown",
      "metadata": {},
      "source": [
        "\n\n# Working with Operators Using Tensor Expression\n**Author**: [Tianqi Chen](https://tqchen.github.io)\n\nIn this tutorial we will turn our attention to how TVM works with Tensor\nExpression (TE) to define tensor computations and apply loop optimizations. TE\ndescribes tensor computations in a pure functional language (that is each\nexpression has no side effects). When viewed in context of the TVM as a whole,\nRelay describes a computation as a set of operators, and each of these\noperators can be represented as a TE expression where each TE expression takes\ninput tensors and produces an output tensor.\n\nThis is an introductory tutorial to the Tensor Expression language in TVM. TVM\nuses a domain specific tensor expression for efficient kernel construction. We\nwill demonstrate the basic workflow with two examples of using the tensor expression\nlanguage. The first example introduces TE and scheduling with vector\naddition. The second expands on these concepts with a step-by-step optimization\nof a matrix multiplication with TE. This matrix multiplication example will\nserve as the comparative basis for future tutorials covering more advanced\nfeatures of TVM.\n"
      ]
    },
    {
      "cell_type": "markdown",
      "metadata": {},
      "source": [
        "## Example 1: Writing and Scheduling Vector Addition in TE for CPU\n\nLet's look at an example in Python in which we will implement a TE for\nvector addition, followed by a schedule targeted towards a CPU.\nWe begin by initializing a TVM environment.\n\n"
      ]
    },
    {
      "cell_type": "code",
      "execution_count": null,
      "metadata": {
        "collapsed": false
      },
      "outputs": [],
      "source": [
        "import tvm\nimport tvm.testing\nfrom tvm import te\nimport numpy as np"
      ]
    },
    {
      "cell_type": "markdown",
      "metadata": {},
      "source": [
        "You will get better performance if you can identify the CPU you are targeting\nand specify it. If you're using LLVM, you can get this information from the\ncommand ``llc --version`` to get the CPU type, and you can check\n``/proc/cpuinfo`` for additional extensions that your processor might\nsupport. For example, you can use ``llvm -mcpu=skylake-avx512`` for CPUs with\nAVX-512 instructions.\n\n"
      ]
    },
    {
      "cell_type": "code",
      "execution_count": null,
      "metadata": {
        "collapsed": false
      },
      "outputs": [],
      "source": [
        "tgt = tvm.target.Target(target=\"llvm\", host=\"llvm\")"
      ]
    },
    {
      "cell_type": "markdown",
      "metadata": {},
      "source": [
        "### Describing the Vector Computation\nWe describe a vector addition computation. TVM adopts tensor semantics, with\neach intermediate result represented as a multi-dimensional array. The user\nneeds to describe the computation rule that generates the tensors. We first\ndefine a symbolic variable ``n`` to represent the shape. We then define two\nplaceholder Tensors, ``A`` and ``B``, with given shape ``(n,)``. We then\ndescribe the result tensor ``C``, with a ``compute`` operation. The\n``compute`` defines a computation, with the output conforming to the\nspecified tensor shape and the computation to be performed at each position\nin the tensor defined by the lambda function. Note that while ``n`` is a\nvariable, it defines a consistent shape between the ``A``, ``B`` and ``C``\ntensors. Remember, no actual computation happens during this phase, as we\nare only declaring how the computation should be done.\n\n"
      ]
    },
    {
      "cell_type": "code",
      "execution_count": null,
      "metadata": {
        "collapsed": false
      },
      "outputs": [],
      "source": [
        "n = te.var(\"n\")\nA = te.placeholder((n,), name=\"A\")\nB = te.placeholder((n,), name=\"B\")\nC = te.compute(A.shape, lambda i: A[i] + B[i], name=\"C\")"
      ]
    },
    {
      "cell_type": "markdown",
      "metadata": {},
      "source": [
        "<div class=\"alert alert-info\"><h4>Lambda Functions</h4><p>The second argument to the ``te.compute`` method is the function that\nperforms the computation. In this example, we're using an anonymous function,\nalso known as a ``lambda`` function, to define the computation, in this case\naddition on the ``i``\\th element of ``A`` and ``B``.</p></div>"
      ]
    },
    {
      "cell_type": "markdown",
      "metadata": {},
      "source": [
        "### Create a Default Schedule for the Computation\n\nWhile the above lines describe the computation rule, we can compute ``C`` in\nmany different ways to fit different devices. For a tensor with multiple\naxes, you can choose which axis to iterate over first, or computations can be\nsplit across different threads. TVM requires that the user to provide a\nschedule, which is a description of how the computation should be performed.\nScheduling operations within TE can change loop orders, split computations\nacross different threads, and group blocks of data together, amongst other\noperations. An important concept behind schedules is that they only describe\nhow the computation is performed, so different schedules for the same TE will\nproduce the same result.\n\nTVM allows you to create a naive schedule that will compute ``C`` in by\niterating in row major order.\n\n```c\nfor (int i = 0; i < n; ++i) {\n  C[i] = A[i] + B[i];\n}\n```\n"
      ]
    },
    {
      "cell_type": "code",
      "execution_count": null,
      "metadata": {
        "collapsed": false
      },
      "outputs": [],
      "source": [
        "s = te.create_schedule(C.op)"
      ]
    },
    {
      "cell_type": "markdown",
      "metadata": {},
      "source": [
        "### Compile and Evaluate the Default Schedule\nWith the TE expression and a schedule, we can produce runnable code for our\ntarget language and architecture, in this case LLVM and a CPU. We provide\nTVM with the schedule, a list of the TE expressions that are in the schedule,\nthe target and host, and the name of the function we are producing. The result\nof the output is a type-erased function that can be called directly from Python.\n\nIn the following line, we use ``tvm.build`` to create a function. The build\nfunction takes the schedule, the desired signature of the function (including\nthe inputs and outputs) as well as target language we want to compile to.\n\n"
      ]
    },
    {
      "cell_type": "code",
      "execution_count": null,
      "metadata": {
        "collapsed": false
      },
      "outputs": [],
      "source": [
        "fadd = tvm.build(s, [A, B, C], tgt, name=\"myadd\")"
      ]
    },
    {
      "cell_type": "markdown",
      "metadata": {},
      "source": [
        "Let's run the function, and compare the output to the same computation in\nnumpy. The compiled TVM function exposes a concise C API that can be invoked\nfrom any language. We begin by creating a device, which is a device (CPU in this\nexample) that TVM can compile the schedule to. In this case the device is an\nLLVM CPU target. We can then initialize the tensors in our device and\nperform the custom addition operation. To verify that the computation is\ncorrect, we can compare the result of the output of the c tensor to the same\ncomputation performed by numpy.\n\n"
      ]
    },
    {
      "cell_type": "code",
      "execution_count": null,
      "metadata": {
        "collapsed": false
      },
      "outputs": [],
      "source": [
        "dev = tvm.device(tgt.kind.name, 0)\n\nn = 1024\na = tvm.nd.array(np.random.uniform(size=n).astype(A.dtype), dev)\nb = tvm.nd.array(np.random.uniform(size=n).astype(B.dtype), dev)\nc = tvm.nd.array(np.zeros(n, dtype=C.dtype), dev)\nfadd(a, b, c)\ntvm.testing.assert_allclose(c.numpy(), a.numpy() + b.numpy())"
      ]
    },
    {
      "cell_type": "markdown",
      "metadata": {},
      "source": [
        "To get a comparison of how fast this version is compared to numpy, create a\nhelper function to run a profile of the TVM generated code.\n\n"
      ]
    },
    {
      "cell_type": "code",
      "execution_count": null,
      "metadata": {
        "collapsed": false
      },
      "outputs": [],
      "source": [
        "import timeit\n\nnp_repeat = 100\nnp_running_time = timeit.timeit(\n    setup=\"import numpy\\n\"\n    \"n = 32768\\n\"\n    'dtype = \"float32\"\\n'\n    \"a = numpy.random.rand(n, 1).astype(dtype)\\n\"\n    \"b = numpy.random.rand(n, 1).astype(dtype)\\n\",\n    stmt=\"answer = a + b\",\n    number=np_repeat,\n)\nprint(\"Numpy running time: %f\" % (np_running_time / np_repeat))\n\n\ndef evaluate_addition(func, target, optimization, log):\n    dev = tvm.device(target.kind.name, 0)\n    n = 32768\n    a = tvm.nd.array(np.random.uniform(size=n).astype(A.dtype), dev)\n    b = tvm.nd.array(np.random.uniform(size=n).astype(B.dtype), dev)\n    c = tvm.nd.array(np.zeros(n, dtype=C.dtype), dev)\n\n    evaluator = func.time_evaluator(func.entry_name, dev, number=10)\n    mean_time = evaluator(a, b, c).mean\n    print(\"%s: %f\" % (optimization, mean_time))\n\n    log.append((optimization, mean_time))\n\n\nlog = [(\"numpy\", np_running_time / np_repeat)]\nevaluate_addition(fadd, tgt, \"naive\", log=log)"
      ]
    },
    {
      "cell_type": "markdown",
      "metadata": {},
      "source": [
        "### Updating the Schedule to Use Parallelism\n\nNow that we've illustrated the fundamentals of TE, let's go deeper into what\nschedules do, and how they can be used to optimize tensor expressions for\ndifferent architectures. A schedule is a series of steps that are applied to\nan expression to transform it in a number of different ways. When a schedule\nis applied to an expression in TE, the inputs and outputs remain the same,\nbut when compiled the implementation of the expression can change. This\ntensor addition, in the default schedule, is run serially but is easy to\nparallelize across all of the processor threads. We can apply the parallel\nschedule operation to our computation.\n\n"
      ]
    },
    {
      "cell_type": "code",
      "execution_count": null,
      "metadata": {
        "collapsed": false
      },
      "outputs": [],
      "source": [
        "s[C].parallel(C.op.axis[0])"
      ]
    },
    {
      "cell_type": "markdown",
      "metadata": {},
      "source": [
        "The ``tvm.lower`` command will generate the Intermediate Representation (IR)\nof the TE, with the corresponding schedule. By lowering the expression as we\napply different schedule operations, we can see the effect of scheduling on\nthe ordering of the computation. We use the flag ``simple_mode=True`` to\nreturn a readable C-style statement.\n\n"
      ]
    },
    {
      "cell_type": "code",
      "execution_count": null,
      "metadata": {
        "collapsed": false
      },
      "outputs": [],
      "source": [
        "print(tvm.lower(s, [A, B, C], simple_mode=True))"
      ]
    },
    {
      "cell_type": "markdown",
      "metadata": {},
      "source": [
        "It's now possible for TVM to run these blocks on independent threads. Let's\ncompile and run this new schedule with the parallel operation applied:\n\n"
      ]
    },
    {
      "cell_type": "code",
      "execution_count": null,
      "metadata": {
        "collapsed": false
      },
      "outputs": [],
      "source": [
        "fadd_parallel = tvm.build(s, [A, B, C], tgt, name=\"myadd_parallel\")\nfadd_parallel(a, b, c)\n\ntvm.testing.assert_allclose(c.numpy(), a.numpy() + b.numpy())\n\nevaluate_addition(fadd_parallel, tgt, \"parallel\", log=log)"
      ]
    },
    {
      "cell_type": "markdown",
      "metadata": {},
      "source": [
        "### Updating the Schedule to Use Vectorization\nModern CPUs also have the ability to perform SIMD operations on floating\npoint values, and we can apply another schedule to our computation expression\nto take advantage of this. Accomplishing this requires multiple steps: first\nwe have to split the schedule into inner and outer loops using the split\nscheduling primitive. The inner loops can use vectorization to use SIMD\ninstructions using the vectorize scheduling primitive, then the outer loops\ncan be parallelized using the parallel scheduling primitive. Choose the split\nfactor to be the number of threads on your CPU.\n\n"
      ]
    },
    {
      "cell_type": "code",
      "execution_count": null,
      "metadata": {
        "collapsed": false
      },
      "outputs": [],
      "source": [
        "# Recreate the schedule, since we modified it with the parallel operation in\n# the previous example\nn = te.var(\"n\")\nA = te.placeholder((n,), name=\"A\")\nB = te.placeholder((n,), name=\"B\")\nC = te.compute(A.shape, lambda i: A[i] + B[i], name=\"C\")\n\ns = te.create_schedule(C.op)\n\n# This factor should be chosen to match the number of threads appropriate for\n# your CPU. This will vary depending on architecture, but a good rule is\n# setting this factor to equal the number of available CPU cores.\nfactor = 4\n\nouter, inner = s[C].split(C.op.axis[0], factor=factor)\ns[C].parallel(outer)\ns[C].vectorize(inner)\n\nfadd_vector = tvm.build(s, [A, B, C], tgt, name=\"myadd_parallel\")\n\nevaluate_addition(fadd_vector, tgt, \"vector\", log=log)\n\nprint(tvm.lower(s, [A, B, C], simple_mode=True))"
      ]
    },
    {
      "cell_type": "markdown",
      "metadata": {},
      "source": [
        "### Comparing the Different Schedules\nWe can now compare the different schedules\n\n"
      ]
    },
    {
      "cell_type": "code",
      "execution_count": null,
      "metadata": {
        "collapsed": false
      },
      "outputs": [],
      "source": [
        "baseline = log[0][1]\nprint(\"%s\\t%s\\t%s\" % (\"Operator\".rjust(20), \"Timing\".rjust(20), \"Performance\".rjust(20)))\nfor result in log:\n    print(\n        \"%s\\t%s\\t%s\"\n        % (result[0].rjust(20), str(result[1]).rjust(20), str(result[1] / baseline).rjust(20))\n    )"
      ]
    },
    {
      "cell_type": "markdown",
      "metadata": {},
      "source": [
        "<div class=\"alert alert-info\"><h4>Code Specialization</h4><p>As you may have noticed, the declarations of ``A``, ``B`` and ``C`` all\ntake the same shape argument, ``n``. TVM will take advantage of this to\npass only a single shape argument to the kernel, as you will find in the\nprinted device code. This is one form of specialization.\n\nOn the host side, TVM will automatically generate check code that checks\nthe constraints in the parameters. So if you pass arrays with different\nshapes into fadd, an error will be raised.\n\nWe can do more specializations. For example, we can write :code:`n =\ntvm.runtime.convert(1024)` instead of :code:`n = te.var(\"n\")`, in the\ncomputation declaration. The generated function will only take vectors with\nlength 1024.</p></div>"
      ]
    },
    {
      "cell_type": "markdown",
      "metadata": {},
      "source": [
        "We've defined, scheduled, and compiled a vector addition operator, which we\nwere then able to execute on the TVM runtime. We can save the operator as a\nlibrary, which we can then load later using the TVM runtime.\n\n"
      ]
    },
    {
      "cell_type": "markdown",
      "metadata": {},
      "source": [
        "### Targeting Vector Addition for GPUs (Optional)\nTVM is capable of targeting multiple architectures. In the next example, we\nwill target compilation of the vector addition to GPUs.\n\n"
      ]
    },
    {
      "cell_type": "code",
      "execution_count": null,
      "metadata": {
        "collapsed": false
      },
      "outputs": [],
      "source": [
        "# If you want to run this code, change ``run_cuda = True``\n# Note that by default this example is not run in the docs CI.\n\nrun_cuda = False\nif run_cuda:\n    # Change this target to the correct backend for you gpu. For example: cuda (NVIDIA GPUs),\n    # rocm (Radeon GPUS), OpenCL (opencl).\n    tgt_gpu = tvm.target.Target(target=\"cuda\", host=\"llvm\")\n\n    # Recreate the schedule\n    n = te.var(\"n\")\n    A = te.placeholder((n,), name=\"A\")\n    B = te.placeholder((n,), name=\"B\")\n    C = te.compute(A.shape, lambda i: A[i] + B[i], name=\"C\")\n    print(type(C))\n\n    s = te.create_schedule(C.op)\n\n    bx, tx = s[C].split(C.op.axis[0], factor=64)\n\n    ################################################################################\n    # Finally we must bind the iteration axis bx and tx to threads in the GPU\n    # compute grid. The naive schedule is not valid for GPUs, and these are\n    # specific constructs that allow us to generate code that runs on a GPU.\n\n    s[C].bind(bx, te.thread_axis(\"blockIdx.x\"))\n    s[C].bind(tx, te.thread_axis(\"threadIdx.x\"))\n\n    ######################################################################\n    # Compilation\n    # -----------\n    # After we have finished specifying the schedule, we can compile it\n    # into a TVM function. By default TVM compiles into a type-erased\n    # function that can be directly called from the python side.\n    #\n    # In the following line, we use tvm.build to create a function.\n    # The build function takes the schedule, the desired signature of the\n    # function (including the inputs and outputs) as well as target language\n    # we want to compile to.\n    #\n    # The result of compilation fadd is a GPU device function (if GPU is\n    # involved) as well as a host wrapper that calls into the GPU\n    # function. fadd is the generated host wrapper function, it contains\n    # a reference to the generated device function internally.\n\n    fadd = tvm.build(s, [A, B, C], target=tgt_gpu, name=\"myadd\")\n\n    ################################################################################\n    # The compiled TVM function exposes a concise C API that can be invoked from\n    # any language.\n    #\n    # We provide a minimal array API in python to aid quick testing and prototyping.\n    # The array API is based on the `DLPack <https://github.com/dmlc/dlpack>`_ standard.\n    #\n    # - We first create a GPU device.\n    # - Then tvm.nd.array copies the data to the GPU.\n    # - ``fadd`` runs the actual computation\n    # - ``numpy()`` copies the GPU array back to the CPU (so we can verify correctness).\n    #\n    # Note that copying the data to and from the memory on the GPU is a required step.\n\n    dev = tvm.device(tgt_gpu.kind.name, 0)\n\n    n = 1024\n    a = tvm.nd.array(np.random.uniform(size=n).astype(A.dtype), dev)\n    b = tvm.nd.array(np.random.uniform(size=n).astype(B.dtype), dev)\n    c = tvm.nd.array(np.zeros(n, dtype=C.dtype), dev)\n    fadd(a, b, c)\n    tvm.testing.assert_allclose(c.numpy(), a.numpy() + b.numpy())\n\n    ################################################################################\n    # Inspect the Generated GPU Code\n    # ~~~~~~~~~~~~~~~~~~~~~~~~~~~~~~\n    # You can inspect the generated code in TVM. The result of tvm.build is a TVM\n    # Module. fadd is the host module that contains the host wrapper, it also\n    # contains a device module for the CUDA (GPU) function.\n    #\n    # The following code fetches the device module and prints the content code.\n\n    if (\n        tgt_gpu.kind.name == \"cuda\"\n        or tgt_gpu.kind.name == \"rocm\"\n        or tgt_gpu.kind.name.startswith(\"opencl\")\n    ):\n        dev_module = fadd.imported_modules[0]\n        print(\"-----GPU code-----\")\n        print(dev_module.get_source())\n    else:\n        print(fadd.get_source())"
      ]
    },
    {
      "cell_type": "markdown",
      "metadata": {},
      "source": [
        "## Saving and Loading Compiled Modules\nBesides runtime compilation, we can save the compiled modules into a file and\nload them back later.\n\nThe following code first performs the following steps:\n\n- It saves the compiled host module into an object file.\n- Then it saves the device module into a ptx file.\n- cc.create_shared calls a compiler (gcc) to create a shared library\n\n"
      ]
    },
    {
      "cell_type": "code",
      "execution_count": null,
      "metadata": {
        "collapsed": false
      },
      "outputs": [],
      "source": [
        "from tvm.contrib import cc\nfrom tvm.contrib import utils\n\ntemp = utils.tempdir()\nfadd.save(temp.relpath(\"myadd.o\"))\nif tgt.kind.name == \"cuda\":\n    fadd.imported_modules[0].save(temp.relpath(\"myadd.ptx\"))\nif tgt.kind.name == \"rocm\":\n    fadd.imported_modules[0].save(temp.relpath(\"myadd.hsaco\"))\nif tgt.kind.name.startswith(\"opencl\"):\n    fadd.imported_modules[0].save(temp.relpath(\"myadd.cl\"))\ncc.create_shared(temp.relpath(\"myadd.so\"), [temp.relpath(\"myadd.o\")])\nprint(temp.listdir())"
      ]
    },
    {
      "cell_type": "markdown",
      "metadata": {},
      "source": [
        "<div class=\"alert alert-info\"><h4>Module Storage Format</h4><p>The CPU (host) module is directly saved as a shared library (.so). There\ncan be multiple customized formats of the device code. In our example, the\ndevice code is stored in ptx, as well as a meta data json file. They can be\nloaded and linked separately via import.</p></div>"
      ]
    },
    {
      "cell_type": "markdown",
      "metadata": {},
      "source": [
        "### Load Compiled Module\nWe can load the compiled module from the file system and run the code. The\nfollowing code loads the host and device module separately and links them\ntogether. We can verify that the newly loaded function works.\n\n"
      ]
    },
    {
      "cell_type": "code",
      "execution_count": null,
      "metadata": {
        "collapsed": false
      },
      "outputs": [],
      "source": [
        "fadd1 = tvm.runtime.load_module(temp.relpath(\"myadd.so\"))\nif tgt.kind.name == \"cuda\":\n    fadd1_dev = tvm.runtime.load_module(temp.relpath(\"myadd.ptx\"))\n    fadd1.import_module(fadd1_dev)\n\nif tgt.kind.name == \"rocm\":\n    fadd1_dev = tvm.runtime.load_module(temp.relpath(\"myadd.hsaco\"))\n    fadd1.import_module(fadd1_dev)\n\nif tgt.kind.name.startswith(\"opencl\"):\n    fadd1_dev = tvm.runtime.load_module(temp.relpath(\"myadd.cl\"))\n    fadd1.import_module(fadd1_dev)\n\nfadd1(a, b, c)\ntvm.testing.assert_allclose(c.numpy(), a.numpy() + b.numpy())"
      ]
    },
    {
      "cell_type": "markdown",
      "metadata": {},
      "source": [
        "### Pack Everything into One Library\nIn the above example, we store the device and host code separately. TVM also\nsupports export everything as one shared library. Under the hood, we pack\nthe device modules into binary blobs and link them together with the host\ncode. Currently we support packing of Metal, OpenCL and CUDA modules.\n\n"
      ]
    },
    {
      "cell_type": "code",
      "execution_count": null,
      "metadata": {
        "collapsed": false
      },
      "outputs": [],
      "source": [
        "fadd.export_library(temp.relpath(\"myadd_pack.so\"))\nfadd2 = tvm.runtime.load_module(temp.relpath(\"myadd_pack.so\"))\nfadd2(a, b, c)\ntvm.testing.assert_allclose(c.numpy(), a.numpy() + b.numpy())"
      ]
    },
    {
      "cell_type": "markdown",
      "metadata": {},
      "source": [
        "<div class=\"alert alert-info\"><h4>Runtime API and Thread-Safety</h4><p>The compiled modules of TVM do not depend on the TVM compiler. Instead,\nthey only depend on a minimum runtime library. The TVM runtime library\nwraps the device drivers and provides thread-safe and device agnostic calls\ninto the compiled functions.\n\nThis means that you can call the compiled TVM functions from any thread, on\nany GPUs, provided that you have compiled the code for that GPU.</p></div>"
      ]
    },
    {
      "cell_type": "markdown",
      "metadata": {},
      "source": [
        "## Generate OpenCL Code\nTVM provides code generation features into multiple backends. We can also\ngenerate OpenCL code or LLVM code that runs on CPU backends.\n\nThe following code blocks generate OpenCL code, creates array on an OpenCL\ndevice, and verifies the correctness of the code.\n\n"
      ]
    },
    {
      "cell_type": "code",
      "execution_count": null,
      "metadata": {
        "collapsed": false
      },
      "outputs": [],
      "source": [
        "if tgt.kind.name.startswith(\"opencl\"):\n    fadd_cl = tvm.build(s, [A, B, C], tgt, name=\"myadd\")\n    print(\"------opencl code------\")\n    print(fadd_cl.imported_modules[0].get_source())\n    dev = tvm.cl(0)\n    n = 1024\n    a = tvm.nd.array(np.random.uniform(size=n).astype(A.dtype), dev)\n    b = tvm.nd.array(np.random.uniform(size=n).astype(B.dtype), dev)\n    c = tvm.nd.array(np.zeros(n, dtype=C.dtype), dev)\n    fadd_cl(a, b, c)\n    tvm.testing.assert_allclose(c.numpy(), a.numpy() + b.numpy())"
      ]
    },
    {
      "cell_type": "markdown",
      "metadata": {},
      "source": [
        "<div class=\"alert alert-info\"><h4>TE Scheduling Primitives</h4><p>TVM includes a number of different scheduling primitives:\n\n- split: splits a specified axis into two axises by the defined factor.\n- tile: tiles will split a computation across two axes by the defined factors.\n- fuse: fuses two consecutive axises of one computation.\n- reorder: can reorder the axises of a computation into a defined order.\n- bind: can bind a computation to a specific thread, useful in GPU programming.\n- compute_at: by default, TVM will compute tensors at the outermost level\n  of the function, or the root, by default. compute_at specifies that one\n  tensor should be computed at the first axis of computation for another\n  operator.\n- compute_inline: when marked inline, a computation will be expanded then\n  inserted into the address where the tensor is required.\n- compute_root: moves a computation to the outermost layer, or root, of the\n  function. This means that stage of the computation will be fully computed\n  before it moves on to the next stage.\n\nA complete description of these primitives can be found in the\n`Schedule Primitives <schedule_primitives>` docs page.</p></div>"
      ]
    },
    {
      "cell_type": "markdown",
      "metadata": {},
      "source": [
        "## Example 2: Manually Optimizing Matrix Multiplication with TE\n\nNow we will consider a second, more advanced example, demonstrating how with\njust 18 lines of python code TVM speeds up a common matrix multiplication operation by 18x.\n\n**Matrix multiplication is a compute intensive operation. There are\ntwo important optimizations for good CPU performance:**\n\n1. Increase the cache hit rate of memory access. Both complex\n   numerical computation and hot-spot memory access can be\n   accelerated by a high cache hit rate. This requires us to\n   transform the origin memory access pattern to a pattern that fits\n   the cache policy.\n\n2. SIMD (Single instruction multi-data), also known as the vector\n   processing unit. On each cycle instead of processing a single\n   value, SIMD can process a small batch of data.  This requires us\n   to transform the data access pattern in the loop body in uniform\n   pattern so that the LLVM backend can lower it to SIMD.\n\nThe techniques used in this tutorial are a subset of tricks mentioned in this\n[repository](https://github.com/flame/how-to-optimize-gemm). Some of them\nhave been applied by TVM abstraction automatically, but some of them cannot\nbe automatically applied due to TVM constraints.\n\n"
      ]
    },
    {
      "cell_type": "markdown",
      "metadata": {},
      "source": [
        "### Preparation and Performance Baseline\n\nWe begin by collecting performance data on the `numpy` implementation of\nmatrix multiplication.\n\n"
      ]
    },
    {
      "cell_type": "code",
      "execution_count": null,
      "metadata": {
        "collapsed": false
      },
      "outputs": [],
      "source": [
        "import tvm\nimport tvm.testing\nfrom tvm import te\nimport numpy\n\n# The size of the matrix\n# (M, K) x (K, N)\n# You are free to try out different shapes, sometimes TVM optimization outperforms numpy with MKL.\nM = 1024\nK = 1024\nN = 1024\n\n# The default tensor data type in tvm\ndtype = \"float32\"\n\n# You will want to adjust the target to match any CPU vector extensions you\n# might have. For example, if you're using using Intel AVX2 (Advanced Vector\n# Extensions) ISA for SIMD, you can get the best performance by changing the\n# following line to ``llvm -mcpu=core-avx2``, or specific type of CPU you use.\n# Recall that you're using llvm, you can get this information from the command\n# ``llc --version`` to get the CPU type, and you can check ``/proc/cpuinfo``\n# for additional extensions that your processor might support.\n\ntarget = tvm.target.Target(target=\"llvm\", host=\"llvm\")\ndev = tvm.device(target.kind.name, 0)\n\n# Random generated tensor for testing\na = tvm.nd.array(numpy.random.rand(M, K).astype(dtype), dev)\nb = tvm.nd.array(numpy.random.rand(K, N).astype(dtype), dev)\n\n# Repeatedly perform a matrix multiplication to get a performance baseline\n# for the default numpy implementation\nnp_repeat = 100\nnp_running_time = timeit.timeit(\n    setup=\"import numpy\\n\"\n    \"M = \" + str(M) + \"\\n\"\n    \"K = \" + str(K) + \"\\n\"\n    \"N = \" + str(N) + \"\\n\"\n    'dtype = \"float32\"\\n'\n    \"a = numpy.random.rand(M, K).astype(dtype)\\n\"\n    \"b = numpy.random.rand(K, N).astype(dtype)\\n\",\n    stmt=\"answer = numpy.dot(a, b)\",\n    number=np_repeat,\n)\nprint(\"Numpy running time: %f\" % (np_running_time / np_repeat))\n\nanswer = numpy.dot(a.numpy(), b.numpy())"
      ]
    },
    {
      "cell_type": "markdown",
      "metadata": {},
      "source": [
        "Now we write a basic matrix multiplication using TVM TE and verify that it\nproduces the same results as the numpy implementation. We also write a\nfunction that will help us measure the performance of the schedule\noptimizations.\n\n"
      ]
    },
    {
      "cell_type": "code",
      "execution_count": null,
      "metadata": {
        "collapsed": false
      },
      "outputs": [],
      "source": [
        "# TVM Matrix Multiplication using TE\nk = te.reduce_axis((0, K), \"k\")\nA = te.placeholder((M, K), name=\"A\")\nB = te.placeholder((K, N), name=\"B\")\nC = te.compute((M, N), lambda x, y: te.sum(A[x, k] * B[k, y], axis=k), name=\"C\")\n\n# Default schedule\ns = te.create_schedule(C.op)\nfunc = tvm.build(s, [A, B, C], target=target, name=\"mmult\")\n\nc = tvm.nd.array(numpy.zeros((M, N), dtype=dtype), dev)\nfunc(a, b, c)\ntvm.testing.assert_allclose(c.numpy(), answer, rtol=1e-5)\n\n\ndef evaluate_operation(s, vars, target, name, optimization, log):\n    func = tvm.build(s, [A, B, C], target=target, name=\"mmult\")\n    assert func\n\n    c = tvm.nd.array(numpy.zeros((M, N), dtype=dtype), dev)\n    func(a, b, c)\n    tvm.testing.assert_allclose(c.numpy(), answer, rtol=1e-5)\n\n    evaluator = func.time_evaluator(func.entry_name, dev, number=10)\n    mean_time = evaluator(a, b, c).mean\n    print(\"%s: %f\" % (optimization, mean_time))\n    log.append((optimization, mean_time))\n\n\nlog = []\n\nevaluate_operation(s, [A, B, C], target=target, name=\"mmult\", optimization=\"none\", log=log)"
      ]
    },
    {
      "cell_type": "markdown",
      "metadata": {},
      "source": [
        "Let's take a look at the intermediate representation of the operator and\ndefault schedule using the TVM lower function. Note how the implementation is\nessentially a naive implementation of a matrix multiplication, using three\nnested loops over the indices of the A and B matrices.\n\n"
      ]
    },
    {
      "cell_type": "code",
      "execution_count": null,
      "metadata": {
        "collapsed": false
      },
      "outputs": [],
      "source": [
        "print(tvm.lower(s, [A, B, C], simple_mode=True))"
      ]
    },
    {
      "cell_type": "markdown",
      "metadata": {},
      "source": [
        "### Optimization 1: Blocking\n\nA important trick to enhance the cache hit rate is blocking, where you\nstructure memory access such that the inside a block is a small neighborhood\nthat has high memory locality. In this tutorial, we pick a block factor of\n32. This will result in a block that will fill a 32 * 32 * sizeof(float) area\nof memory. This corresponds to a cache size of 4KB, in relation to a\nreference cache size of 32 KB for L1 cache.\n\nWe begin by creating a default schedule for the ``C`` operation, then apply a\n``tile`` scheduling primitive to it with the specified block factor, with the\nscheduling primitive returning the resulting loop order from outermost to\ninnermost, as a vector ``[x_outer, y_outer, x_inner, y_inner]``. We then get\nthe reduction axis for output of the operation, and perform a split operation\non it using a factor of 4. This factor doesn't directly impact the blocking\noptimization we're working on right now, but will be useful later when we\napply vectorization.\n\nNow that the operation has been blocked, we can reorder the computation to\nput the reduction operation into the outermost loop of the computation,\nhelping to guarantee that the blocked data remains in cache. This completes\nthe schedule, and we can build and test the performance compared to the naive\nschedule.\n\n"
      ]
    },
    {
      "cell_type": "code",
      "execution_count": null,
      "metadata": {
        "collapsed": false
      },
      "outputs": [],
      "source": [
        "bn = 32\n\n# Blocking by loop tiling\nxo, yo, xi, yi = s[C].tile(C.op.axis[0], C.op.axis[1], bn, bn)\n(k,) = s[C].op.reduce_axis\nko, ki = s[C].split(k, factor=4)\n\n# Hoist reduction domain outside the blocking loop\ns[C].reorder(xo, yo, ko, ki, xi, yi)\n\nevaluate_operation(s, [A, B, C], target=target, name=\"mmult\", optimization=\"blocking\", log=log)"
      ]
    },
    {
      "cell_type": "markdown",
      "metadata": {},
      "source": [
        "By reordering the computation to take advantage of caching, you should see a\nsignificant improvement in the performance of the computation. Now, print the\ninternal representation and compare it to the original:\n\n"
      ]
    },
    {
      "cell_type": "code",
      "execution_count": null,
      "metadata": {
        "collapsed": false
      },
      "outputs": [],
      "source": [
        "print(tvm.lower(s, [A, B, C], simple_mode=True))"
      ]
    },
    {
      "cell_type": "markdown",
      "metadata": {},
      "source": [
        "### Optimization 2: Vectorization\n\nAnother important optimization trick is vectorization. When the memory access\npattern is uniform, the compiler can detect this pattern and pass the\ncontinuous memory to the SIMD vector processor. In TVM, we can use the\n``vectorize`` interface to hint the compiler this pattern, taking advantage\nof this hardware feature.\n\nIn this tutorial, we chose to vectorize the inner loop row data since it is\nalready cache friendly from our previous optimizations.\n\n"
      ]
    },
    {
      "cell_type": "code",
      "execution_count": null,
      "metadata": {
        "collapsed": false
      },
      "outputs": [],
      "source": [
        "# Apply the vectorization optimization\ns[C].vectorize(yi)\n\nevaluate_operation(s, [A, B, C], target=target, name=\"mmult\", optimization=\"vectorization\", log=log)\n\n# The generalized IR after vectorization\nprint(tvm.lower(s, [A, B, C], simple_mode=True))"
      ]
    },
    {
      "cell_type": "markdown",
      "metadata": {},
      "source": [
        "### Optimization 3: Loop Permutation\n\nIf we look at the above IR, we can see the inner loop row data is vectorized\nand B is transformed into PackedB (this is evident by the `(float32x32*)B2`\nportion of the inner loop). The traversal of PackedB is sequential now. So we\nwill look at the access pattern of A. In current schedule, A is accessed\ncolumn by column which is not cache friendly. If we change the nested loop\norder of `ki` and inner axes `xi`, the access pattern for A matrix will be\nmore cache friendly.\n\n"
      ]
    },
    {
      "cell_type": "code",
      "execution_count": null,
      "metadata": {
        "collapsed": false
      },
      "outputs": [],
      "source": [
        "s = te.create_schedule(C.op)\nxo, yo, xi, yi = s[C].tile(C.op.axis[0], C.op.axis[1], bn, bn)\n(k,) = s[C].op.reduce_axis\nko, ki = s[C].split(k, factor=4)\n\n# re-ordering\ns[C].reorder(xo, yo, ko, xi, ki, yi)\ns[C].vectorize(yi)\n\nevaluate_operation(\n    s, [A, B, C], target=target, name=\"mmult\", optimization=\"loop permutation\", log=log\n)\n\n# Again, print the new generalized IR\nprint(tvm.lower(s, [A, B, C], simple_mode=True))"
      ]
    },
    {
      "cell_type": "markdown",
      "metadata": {},
      "source": [
        "### Optimization 4: Array Packing\n\nAnother important trick is array packing. This trick is to reorder the\nstorage dimension of the array to convert the continuous access pattern on\ncertain dimension to a sequential pattern after flattening.\n\n<img src=\"https://github.com/dmlc/web-data/raw/main/tvm/tutorial/array-packing.png\" align=\"center\">\n\nJust as it is shown in the figure above, after blocking the computations, we\ncan observe the array access pattern of B (after flattening), which is\nregular but discontinuous. We expect that after some transformation we can\nget a continuous access pattern. By reordering a ``[16][16]`` array to a\n``[16/4][16][4]`` array the access pattern of B will be sequential when\ngrabbing the corresponding value from the packed array.\n\nTo accomplish this, we are going to have to start with a new default\nschedule, taking into account the new packing of B. It's worth taking a\nmoment to comment on this: TE is a powerful and expressive language for\nwriting optimized operators, but it often requires some knowledge of the\nunderlying algorithm, data structures, and hardware target that you are\nwriting for. Later in the tutorial, we will discuss some of the options for\nletting TVM take that burden. Regardless, let's move on with the new\noptimized schedule.\n\n"
      ]
    },
    {
      "cell_type": "code",
      "execution_count": null,
      "metadata": {
        "collapsed": false
      },
      "outputs": [],
      "source": [
        "# We have to re-write the algorithm slightly.\npackedB = te.compute((N / bn, K, bn), lambda x, y, z: B[y, x * bn + z], name=\"packedB\")\nC = te.compute(\n    (M, N),\n    lambda x, y: te.sum(A[x, k] * packedB[y // bn, k, tvm.tir.indexmod(y, bn)], axis=k),\n    name=\"C\",\n)\n\ns = te.create_schedule(C.op)\n\nxo, yo, xi, yi = s[C].tile(C.op.axis[0], C.op.axis[1], bn, bn)\n(k,) = s[C].op.reduce_axis\nko, ki = s[C].split(k, factor=4)\n\ns[C].reorder(xo, yo, ko, xi, ki, yi)\ns[C].vectorize(yi)\n\nx, y, z = s[packedB].op.axis\ns[packedB].vectorize(z)\ns[packedB].parallel(x)\n\nevaluate_operation(s, [A, B, C], target=target, name=\"mmult\", optimization=\"array packing\", log=log)\n\n# Here is the generated IR after array packing.\nprint(tvm.lower(s, [A, B, C], simple_mode=True))"
      ]
    },
    {
      "cell_type": "markdown",
      "metadata": {},
      "source": [
        "### Optimization 5: Optimizing Block Writing Through Caching\n\nUp to this point all of our optimizations have focused on efficiently\naccessing and computing the data from the `A` and `B` matrices to compute the\n`C` matrix. After the blocking optimization, the operator will write result\nto `C` block by block, and the access pattern is not sequential. We can\naddress this by using a sequential cache array, using a combination of\n`cache_write`, `compute_at`, and `unroll`to hold the block results and write\nto `C` when all the block results are ready.\n\n"
      ]
    },
    {
      "cell_type": "code",
      "execution_count": null,
      "metadata": {
        "collapsed": false
      },
      "outputs": [],
      "source": [
        "s = te.create_schedule(C.op)\n\n# Allocate write cache\nCC = s.cache_write(C, \"global\")\n\nxo, yo, xi, yi = s[C].tile(C.op.axis[0], C.op.axis[1], bn, bn)\n\n# Write cache is computed at yo\ns[CC].compute_at(s[C], yo)\n\n# New inner axes\nxc, yc = s[CC].op.axis\n\n(k,) = s[CC].op.reduce_axis\nko, ki = s[CC].split(k, factor=4)\ns[CC].reorder(ko, xc, ki, yc)\ns[CC].unroll(ki)\ns[CC].vectorize(yc)\n\nx, y, z = s[packedB].op.axis\ns[packedB].vectorize(z)\ns[packedB].parallel(x)\n\nevaluate_operation(s, [A, B, C], target=target, name=\"mmult\", optimization=\"block caching\", log=log)\n\n# Here is the generated IR after write cache blocking.\nprint(tvm.lower(s, [A, B, C], simple_mode=True))"
      ]
    },
    {
      "cell_type": "markdown",
      "metadata": {},
      "source": [
        "### Optimization 6: Parallelization\n\nSo far, our computation is only designed to use a single core. Nearly all\nmodern processors have multiple cores, and computation can benefit from\nrunning computations in parallel. The final optimization is to take advantage\nof thread-level parallelization.\n\n"
      ]
    },
    {
      "cell_type": "code",
      "execution_count": null,
      "metadata": {
        "collapsed": false
      },
      "outputs": [],
      "source": [
        "# parallel\ns[C].parallel(xo)\n\nx, y, z = s[packedB].op.axis\ns[packedB].vectorize(z)\ns[packedB].parallel(x)\n\nevaluate_operation(\n    s, [A, B, C], target=target, name=\"mmult\", optimization=\"parallelization\", log=log\n)\n\n# Here is the generated IR after parallelization.\nprint(tvm.lower(s, [A, B, C], simple_mode=True))"
      ]
    },
    {
      "cell_type": "markdown",
      "metadata": {},
      "source": [
        "### Summary of Matrix Multiplication Example\n\nAfter applying the above simple optimizations with only 18 lines of code, our\ngenerated code can begin to approach the performance of `numpy` with the Math\nKernel Library (MKL). Since we've been logging the performance as we've been\nworking, we can compare the results.\n\n"
      ]
    },
    {
      "cell_type": "code",
      "execution_count": null,
      "metadata": {
        "collapsed": false
      },
      "outputs": [],
      "source": [
        "baseline = log[0][1]\nprint(\"%s\\t%s\\t%s\" % (\"Operator\".rjust(20), \"Timing\".rjust(20), \"Performance\".rjust(20)))\nfor result in log:\n    print(\n        \"%s\\t%s\\t%s\"\n        % (result[0].rjust(20), str(result[1]).rjust(20), str(result[1] / baseline).rjust(20))\n    )"
      ]
    },
    {
      "cell_type": "markdown",
      "metadata": {},
      "source": [
        "Note that the outputs on the web page reflect the running times on a\nnon-exclusive Docker container, and should be considered unreliable. It is\nhighly encouraged to run the tutorial by yourself to observe the performance\ngain achieved by TVM, and to carefully work through each example to\nunderstand the iterative improvements that are made to the matrix\nmultiplication operation.\n\n"
      ]
    },
    {
      "cell_type": "markdown",
      "metadata": {},
      "source": [
        "## Final Notes and Summary\nAs mentioned earlier, how to apply optimizations using TE and scheduling\nprimitives can require some knowledge of the underlying architecture and\nalgorithms. However, TE was designed to act as a foundation for more complex\nalgorithms that can search the potential optimization. With the knowledge you\nhave from this introduction to TE, we can now begin to explore how TVM can\nautomate the schedule optimization process.\n\nThis tutorial provided a walk-through of TVM Tensor Expression (TE) workflow\nusing a vector add and a matrix multiplication examples. The general workflow\nis\n\n- Describe your computation via a series of operations.\n- Describe how we want to compute use schedule primitives.\n- Compile to the target function we want.\n- Optionally, save the function to be loaded later.\n\nUpcoming tutorials expand on the matrix multiplication example, and show how\nyou can build generic templates of the matrix multiplication and other\noperations with tunable parameters that allows you to automatically optimize\nthe computation for specific platforms.\n\n"
      ]
    }
  ],
  "metadata": {
    "kernelspec": {
      "display_name": "Python 3",
      "language": "python",
      "name": "python3"
    },
    "language_info": {
      "codemirror_mode": {
        "name": "ipython",
        "version": 3
      },
      "file_extension": ".py",
      "mimetype": "text/x-python",
      "name": "python",
      "nbconvert_exporter": "python",
      "pygments_lexer": "ipython3",
      "version": "3.7.5"
    }
  },
  "nbformat": 4,
  "nbformat_minor": 0
}