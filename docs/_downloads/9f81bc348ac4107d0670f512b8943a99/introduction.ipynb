{
  "cells": [
    {
      "cell_type": "code",
      "execution_count": null,
      "metadata": {
        "collapsed": false
      },
      "outputs": [],
      "source": [
        "%%shell\n# Installs the latest dev build of TVM from PyPI. If you wish to build\n# from source, see https://tvm.apache.org/docs/install/from_source.html\npip install apache-tvm --pre"
      ]
    },
    {
      "cell_type": "markdown",
      "metadata": {},
      "source": [
        "\n# Introduction\n**Authors**:\n[Jocelyn Shiue](https://github.com/),\n[Chris Hoge](https://github.com/hogepodge),\n[Lianmin Zheng](https://github.com/merrymercy)\n\nApache TVM is an open source machine learning compiler framework for CPUs,\nGPUs, and machine learning accelerators. It aims to enable machine learning\nengineers to optimize and run computations efficiently on any hardware backend.\nThe purpose of this tutorial is to take a guided tour through all of the major\nfeatures of TVM by defining and demonstrating key concepts. A new user should\nbe able to work through the tutorial from start to finish and be able to\noperate TVM for automatic model optimization, while having a basic\nunderstanding of the TVM architecture and how it works.\n\n## Contents\n\n#. :doc:`Introduction <introduction>`\n#. :doc:`Installing TVM <install>`\n#. :doc:`Compiling and Optimizing a Model with the Command Line Interface <tvmc_command_line_driver>`\n#. :doc:`Compiling and Optimizing a Model with the Python Interface <autotvm_relay_x86>`\n#. :doc:`Working with Operators Using Tensor Expression <tensor_expr_get_started>`\n#. :doc:`Optimizing Operators with Templates and AutoTVM <autotvm_matmul_x86>`\n#. :doc:`Optimizing Operators with Template-free AutoScheduler <auto_scheduler_matmul_x86>`\n#. :doc:`Cross Compilation and Remote Procedure Calls (RPC) <cross_compilation_and_rpc>`\n#. :doc:`Compiling Deep Learning Models for GPUs <relay_quick_start>`\n"
      ]
    },
    {
      "cell_type": "markdown",
      "metadata": {},
      "source": [
        "# An Overview of TVM and Model Optimization\n\nThe diagram below illustrates the steps a machine model takes as it is\ntransformed with the TVM optimizing compiler framework.\n\n<img src=\"https://raw.githubusercontent.com/apache/tvm-site/main/images/tutorial/overview.png\" width=\"100%\" alt=\"A High Level View of TVM\">\n\n1. Import the model from a framework like *Tensorflow*, *PyTorch*, or *Onnx*.\n   The importer layer is where TVM can ingest models from other frameworks, like\n   Tensorflow, PyTorch, or ONNX. The level of support that TVM offers for each\n   frontend varies as we are constantly improving the open source project. If\n   you're having issues importing your model into TVM, you may want to try\n   converting it to ONNX.\n\n2. Translate to *Relay*, TVM's high-level model language.\n   A model that has been imported into TVM is represented in Relay. Relay is a\n   functional language and intermediate representation (IR) for neural networks.\n   It has support for:\n\n   - Traditional data flow-style representations\n   - Functional-style scoping, let-binding which makes it a fully featured\n     differentiable language\n   - Ability to allow the user to mix the two programming styles\n\n   Relay applies graph-level optimization passes to optimize the model.\n\n3. Lower to *Tensor Expression* (TE) representation. Lowering is when a\n   higher-level representation is transformed into a lower-level\n   representation. After applying the high-level optimizations, Relay\n   runs FuseOps pass to partition the model into many small subgraphs and lowers\n   the subgraphs to TE representation. Tensor Expression (TE) is a\n   domain-specific language for describing tensor computations.\n   TE also provides several *schedule* primitives to specify low-level loop\n   optimizations, such as tiling, vectorization, parallelization,\n   unrolling, and fusion.\n   To aid in the process of converting Relay representation into TE representation,\n   TVM includes a Tensor Operator Inventory (TOPI) that has pre-defined\n   templates of common tensor operators (e.g., conv2d, transpose).\n\n4. Search for the best schedule using the auto-tuning module *AutoTVM* or *AutoScheduler*.\n   A schedule specifies the low-level loop optimizations for an operator or\n   subgraph defined in TE. Auto-tuning modules search for the best schedule\n   and compare them with cost models and on-device measurements.\n   There are two auto-tuning modules in TVM.\n\n   - **AutoTVM**: A template-based auto-tuning module. It runs search algorithms\n     to find the best values for the tunable knobs in a user-defined template.\n     For common operators, their templates are already provided in TOPI.\n   - **AutoScheduler (a.k.a. Ansor)**: A template-free auto-tuning module.\n     It does not require pre-defined schedule templates. Instead, it generates\n     the search space automatically by analyzing the computation definition.\n     It then searches for the best schedule in the generated search space.\n\n5. Choose the optimal configurations for model compilation. After tuning, the\n   auto-tuning module generates tuning records in JSON format. This step\n   picks the best schedule for each subgraph.\n\n6. Lower to Tensor Intermediate Representation (TIR), TVM's low-level\n   intermediate representation. After selecting the optimal configurations\n   based on the tuning step, each TE subgraph is lowered to TIR and be\n   optimized by low-level optimization passes. Next, the optimized TIR is\n   lowered to the target compiler of the hardware platform.\n   This is the final code generation phase to produce an optimized model\n   that can be deployed into production. TVM supports several different\n   compiler backends including:\n\n   - LLVM, which can target arbitrary microprocessor architecture including\n     standard x86 and ARM processors, AMDGPU and NVPTX code generation, and any\n     other platform supported by LLVM.\n   - Specialized compilers, such as NVCC, NVIDIA's compiler.\n   - Embedded and specialized targets, which are implemented through TVM's\n     Bring Your Own Codegen (BYOC) framework.\n\n7. Compile down to machine code. At the end of this process, the\n   compiler-specific generated code can be lowered to machine code.\n\n   TVM can compile models down to a linkable object module, which can then be\n   run with a lightweight TVM runtime that provides C APIs to dynamically\n   load the model, and entry points for other languages such as Python and\n   Rust. TVM can also build a bundled deployment in which the runtime is\n   combined with the model in a single package.\n\nThe remainder of the tutorial will cover these aspects of TVM in more detail.\n\n"
      ]
    }
  ],
  "metadata": {
    "kernelspec": {
      "display_name": "Python 3",
      "language": "python",
      "name": "python3"
    },
    "language_info": {
      "codemirror_mode": {
        "name": "ipython",
        "version": 3
      },
      "file_extension": ".py",
      "mimetype": "text/x-python",
      "name": "python",
      "nbconvert_exporter": "python",
      "pygments_lexer": "ipython3",
      "version": "3.7.5"
    }
  },
  "nbformat": 4,
  "nbformat_minor": 0
}