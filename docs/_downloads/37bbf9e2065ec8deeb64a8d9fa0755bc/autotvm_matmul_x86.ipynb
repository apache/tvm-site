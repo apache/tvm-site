{
  "cells": [
    {
      "cell_type": "code",
      "execution_count": null,
      "metadata": {
        "collapsed": false
      },
      "outputs": [],
      "source": [
        "%%shell\n# Installs the latest dev build of TVM from PyPI. If you wish to build\n# from source, see https://tvm.apache.org/docs/install/from_source.html\npip install apache-tvm --pre"
      ]
    },
    {
      "cell_type": "markdown",
      "metadata": {},
      "source": [
        "\n\n# Optimizing Operators with Schedule Templates and AutoTVM\n**Authors**:\n[Lianmin Zheng](https://github.com/merrymercy),\n[Chris Hoge](https://github.com/hogepodge)\n\nIn this tutorial, we show how the TVM Tensor Expression (TE) language\ncan be used to write schedule templates that can be searched by AutoTVM to\nfind the optimal schedule. This process is called Auto-Tuning, which helps\nautomate the process of optimizing tensor computation.\n\nThis tutorial builds on the previous :doc:`tutorial on how to write a matrix\nmultiplication using TE <tensor_expr_get_started>`.\n\nThere are two steps in auto-tuning.\n\n- The first step is defining a search space.\n- The second step is running a search algorithm to explore through this space.\n\nIn this tutorial, you can learn how to perform these two steps in TVM. The whole\nworkflow is illustrated by a matrix multiplication example.\n\n<div class=\"alert alert-info\"><h4>Note</h4><p>Note that this tutorial will not run on Windows or recent versions of macOS.\n  To get it to run, you will need to wrap the body of this tutorial in a\n  :code:`if __name__ == \"__main__\":` block.</p></div>\n"
      ]
    },
    {
      "cell_type": "markdown",
      "metadata": {},
      "source": [
        "## Install dependencies\nTo use autotvm package in TVM, we need to install some extra dependencies.\n\n```bash\npip3 install --user psutil xgboost cloudpickle\n```\nTo make TVM run faster in tuning, it is recommended to use cython as FFI of\nTVM. In the root directory of TVM, execute:\n\n```bash\npip3 install --user cython\nsudo make cython3\n```\nNow return to python code. Begin by importing the required packages.\n\n"
      ]
    },
    {
      "cell_type": "code",
      "execution_count": null,
      "metadata": {
        "collapsed": false
      },
      "outputs": [],
      "source": [
        "import logging\nimport sys\n\nimport numpy as np\nimport tvm\nfrom tvm import te\nimport tvm.testing\n\n# the module is called `autotvm`\nfrom tvm import autotvm"
      ]
    },
    {
      "cell_type": "markdown",
      "metadata": {},
      "source": [
        "## Basic Matrix Multiplication with TE\nRecall the basic implementation of matrix multiplication using TE. We write\nit down here with a few changes. We will wrap the multiplication in a python\nfunction definition. For simplicity, we will focus our attention on a split\noptimization, using a fixed value that defines the block size of the\nreordering.\n\n"
      ]
    },
    {
      "cell_type": "code",
      "execution_count": null,
      "metadata": {
        "collapsed": false
      },
      "outputs": [],
      "source": [
        "def matmul_basic(N, L, M, dtype):\n\n    A = te.placeholder((N, L), name=\"A\", dtype=dtype)\n    B = te.placeholder((L, M), name=\"B\", dtype=dtype)\n\n    k = te.reduce_axis((0, L), name=\"k\")\n    C = te.compute((N, M), lambda i, j: te.sum(A[i, k] * B[k, j], axis=k), name=\"C\")\n    s = te.create_schedule(C.op)\n\n    # schedule\n    y, x = s[C].op.axis\n    k = s[C].op.reduce_axis[0]\n\n    yo, yi = s[C].split(y, 8)\n    xo, xi = s[C].split(x, 8)\n\n    s[C].reorder(yo, xo, k, yi, xi)\n\n    return s, [A, B, C]"
      ]
    },
    {
      "cell_type": "markdown",
      "metadata": {},
      "source": [
        "## Matrix Multiplication with AutoTVM\nIn the previous schedule code, we use a constant \"8\" as the tiling factor.\nHowever, it might not be the best one because the best tiling factor depends\non real hardware environment and input shape.\n\nIf you want the schedule code to be portable across a wider range of input\nshapes and target hardware, it is better to define a set of candidate values\nand pick the best one according to the measurement results on target\nhardware.\n\nIn autotvm, we can define a tunable parameter, or a \"knob\" for such kind of\nvalue.\n\n"
      ]
    },
    {
      "cell_type": "markdown",
      "metadata": {},
      "source": [
        "## A Basic Matrix Multiplication Template\nWe begin with an example of how to create a tunable parameter set for the\nblock size of the `split` scheduling operation.\n\n"
      ]
    },
    {
      "cell_type": "code",
      "execution_count": null,
      "metadata": {
        "collapsed": false
      },
      "outputs": [],
      "source": [
        "# Matmul V1: List candidate values\n@autotvm.template(\"tutorial/matmul_v1\")  # 1. use a decorator\ndef matmul_v1(N, L, M, dtype):\n    A = te.placeholder((N, L), name=\"A\", dtype=dtype)\n    B = te.placeholder((L, M), name=\"B\", dtype=dtype)\n\n    k = te.reduce_axis((0, L), name=\"k\")\n    C = te.compute((N, M), lambda i, j: te.sum(A[i, k] * B[k, j], axis=k), name=\"C\")\n    s = te.create_schedule(C.op)\n\n    # schedule\n    y, x = s[C].op.axis\n    k = s[C].op.reduce_axis[0]\n\n    # 2. get the config object\n    cfg = autotvm.get_config()\n\n    # 3. define search space\n    cfg.define_knob(\"tile_y\", [1, 2, 4, 8, 16])\n    cfg.define_knob(\"tile_x\", [1, 2, 4, 8, 16])\n\n    # 4. schedule according to config\n    yo, yi = s[C].split(y, cfg[\"tile_y\"].val)\n    xo, xi = s[C].split(x, cfg[\"tile_x\"].val)\n\n    s[C].reorder(yo, xo, k, yi, xi)\n\n    return s, [A, B, C]"
      ]
    },
    {
      "cell_type": "markdown",
      "metadata": {},
      "source": [
        "Here we make four modifications to the previous schedule code and get a\ntunable \"template\". We can explain the modifications one by one.\n\n1. Use a decorator to mark this function as a simple template.\n2. Get a config object: You can regard this :code:`cfg` as an argument of\n   this function but we obtain it in a different way. With this argument, this\n   function is no longer a deterministic schedule. Instead, we can pass\n   different configurations to this function and get different schedules. A\n   function that uses a configuration object like this is called a \"template\".\n\n   To make the template function more compact, we can do two things to define\n   the parameter search space within a single function.\n\n   1. Define a search space across a set values. This is done by making\n      :code:`cfg` a :any:`ConfigSpace` object. It will collect all of the\n      tunable knobs in this function and build a search space from it.\n   2. Schedule according to an entity in this space. This is done by making\n      :code:`cfg` a :any:`ConfigEntity` object. When it is a\n      :any:`ConfigEntity`, it will ignore all space definition API (namely,\n      :code:`cfg.define_XXXXX(...)`). Instead, it will store deterministic\n      values for all tunable knobs, and we schedule according to these values.\n\n   During auto-tuning, we will first call this template with a\n   :any:`ConfigSpace` object to build the search space. Then we call this\n   template with different :any:`ConfigEntity` in the built space to get\n   different schedules. Finally we will measure the code generated by\n   different schedules and pick the best one.\n\n3. Define two tunable knobs. The first one is :code:`tile_y` with 5 possible\n   values. The second one is :code:`tile_x` with a same list of possible values.\n   These two knobs are independent, so they span a search space with size 25 =\n   5x5.\n4. The configuration knobs are passed to the :code:`split` schedule\n   operation, allowing us to schedule according to the 5x5 deterministic values\n   we previously defined in :code:`cfg`.\n\n"
      ]
    },
    {
      "cell_type": "markdown",
      "metadata": {},
      "source": [
        "## A Matrix Multiplication Template with the Advanced Parameter API\nIn the previous template, we manually listed all of the possible values for a\nknob. This is the lowest level API to define the space, and gives an explicit\nenumeration of the parameter space to search. However, we also provide\nanother set of APIs that can make the definition of the search space easier\nand smarter. Where possible, we recommend you use this higher-level API\n\nIn the following example, we use :any:`ConfigSpace.define_split` to define a\nsplit knob. It will enumerate all the possible ways to split an axis and\nconstruct the space.\n\nWe also have :any:`ConfigSpace.define_reorder` for reorder knob and\n:any:`ConfigSpace.define_annotate` for annotation like unroll, vectorization,\nthread binding. When the high level API cannot meet your requirements, you\ncan always fall back to using the low level API.\n\n"
      ]
    },
    {
      "cell_type": "code",
      "execution_count": null,
      "metadata": {
        "collapsed": false
      },
      "outputs": [],
      "source": [
        "@autotvm.template(\"tutorial/matmul\")\ndef matmul(N, L, M, dtype):\n    A = te.placeholder((N, L), name=\"A\", dtype=dtype)\n    B = te.placeholder((L, M), name=\"B\", dtype=dtype)\n\n    k = te.reduce_axis((0, L), name=\"k\")\n    C = te.compute((N, M), lambda i, j: te.sum(A[i, k] * B[k, j], axis=k), name=\"C\")\n    s = te.create_schedule(C.op)\n\n    # schedule\n    y, x = s[C].op.axis\n    k = s[C].op.reduce_axis[0]\n\n    ##### define space begin #####\n    cfg = autotvm.get_config()\n    cfg.define_split(\"tile_y\", y, num_outputs=2)\n    cfg.define_split(\"tile_x\", x, num_outputs=2)\n    ##### define space end #####\n\n    # schedule according to config\n    yo, yi = cfg[\"tile_y\"].apply(s, C, y)\n    xo, xi = cfg[\"tile_x\"].apply(s, C, x)\n\n    s[C].reorder(yo, xo, k, yi, xi)\n\n    return s, [A, B, C]"
      ]
    },
    {
      "cell_type": "markdown",
      "metadata": {},
      "source": [
        "<div class=\"alert alert-info\"><h4>More Explanation on :code:`cfg.define_split`</h4><p></p></div> In this template, :code:`cfg.define_split(\"tile_y\", y, num_outputs=2)` will\n enumerate all possible combinations that can split axis y into two axes with\n factors of the length of y. For example, if the length of y is 32 and we\n want to split it into two axes using factors of 32, then there are 6\n possible values for (length of outer axis, length of inner axis) pair,\n namely (32, 1), (16, 2), (8, 4), (4, 8), (2, 16) or (1, 32). These are all 6\n possible values of `tile_y`.\n\n During scheduling, :code:`cfg[\"tile_y\"]` is a :code:`SplitEntity` object.\n We stores the lengths of outer axes and inner axes in\n :code:`cfg['tile_y'].size` (a tuple with two elements).  In this template,\n we apply it by using :code:`yo, yi = cfg['tile_y'].apply(s, C, y)`.\n Actually, this is equivalent to :code:`yo, yi = s[C].split(y,\n cfg[\"tile_y\"].size[1])` or  :code:`yo, yi = s[C].split(y,\n nparts=cfg['tile_y\"].size[0])`\n\n The advantage of using cfg.apply API is that it makes multi-level splits\n (that is, when num_outputs >= 3) easier.\n\n"
      ]
    },
    {
      "cell_type": "markdown",
      "metadata": {},
      "source": [
        "## Step 2: Use AutoTVM to Optimize the Matrix Multiplication\nIn Step 1, we wrote a matrix multiplication template that allowed us to\nparameterize the block size used in the `split` schedule. We can now conduct\na search over this parameter space. The next step is to pick a tuner to guide\nthe exploration of this space.\n\n### Auto-tuners in TVM\nThe job for a tuner can be described by following pseudo code\n\n```c\nct = 0\nwhile ct < max_number_of_trials:\n    propose a batch of configs\n    measure this batch of configs on real hardware and get results\n    ct += batch_size\n```\nWhen proposing the next batch of configs, the tuner can take different\nstrategies. Some of the tuner strategies provided by TVM include:\n\n* :any:`tvm.autotvm.tuner.RandomTuner`: Enumerate the space in a random order\n* :any:`tvm.autotvm.tuner.GridSearchTuner`: Enumerate the space in a grid search order\n* :any:`tvm.autotvm.tuner.GATuner`: Using genetic algorithm to search through the space\n* :any:`tvm.autotvm.tuner.XGBTuner`: Uses a model based method. Train a XGBoost model to\n  predict the speed of lowered IR and pick the next batch according to the\n  prediction.\n\nYou can choose the tuner according to the size of your space, your time\nbudget and other factors.  For example, if your space is very small (less\nthan 1000), a grid-search tuner or a random tuner is good enough. If your\nspace is at the level of 10^9 (this is the space size of a conv2d operator on\nCUDA GPU), XGBoostTuner can explore more efficiently and find better configs.\n\n"
      ]
    },
    {
      "cell_type": "markdown",
      "metadata": {},
      "source": [
        "### Begin tuning\nHere we continue our matrix multiplication example. First we create a tuning\ntask. We can also inspect the initialized search space. In this case, for a\n512x512 square matrix multiplication, the space size is 10x10=100 Note that\nthe task and search space are independent of the tuner picked.\n\n"
      ]
    },
    {
      "cell_type": "code",
      "execution_count": null,
      "metadata": {
        "collapsed": false
      },
      "outputs": [],
      "source": [
        "N, L, M = 512, 512, 512\ntask = autotvm.task.create(\"tutorial/matmul\", args=(N, L, M, \"float32\"), target=\"llvm\")\nprint(task.config_space)"
      ]
    },
    {
      "cell_type": "markdown",
      "metadata": {},
      "source": [
        "Then we need to define how to measure the generated code and pick a tuner.\nSince our space is small, a random tuner is just okay.\n\nWe only make 10 trials in this tutorial for demonstration. In practice, you\ncan do more trials according to your time budget. We will log the tuning\nresults into a log file. This file can be used to choose the best\nconfiguration discovered by the tuner later.\n\n"
      ]
    },
    {
      "cell_type": "code",
      "execution_count": null,
      "metadata": {
        "collapsed": false
      },
      "outputs": [],
      "source": [
        "# logging config (for printing tuning log to the screen)\nlogging.getLogger(\"autotvm\").setLevel(logging.DEBUG)\nlogging.getLogger(\"autotvm\").addHandler(logging.StreamHandler(sys.stdout))"
      ]
    },
    {
      "cell_type": "markdown",
      "metadata": {},
      "source": [
        "There are two steps for measuring a config: build and run. By default, we use\nall CPU cores to compile program. We then measure them sequentially. To help\nreduce variance, we take 5 measurements and average them.\n\n"
      ]
    },
    {
      "cell_type": "code",
      "execution_count": null,
      "metadata": {
        "collapsed": false
      },
      "outputs": [],
      "source": [
        "measure_option = autotvm.measure_option(builder=\"local\", runner=autotvm.LocalRunner(number=5))\n\n# Begin tuning with RandomTuner, log records to file `matmul.log`\n# You can use alternatives like XGBTuner.\ntuner = autotvm.tuner.RandomTuner(task)\ntuner.tune(\n    n_trial=10,\n    measure_option=measure_option,\n    callbacks=[autotvm.callback.log_to_file(\"matmul.log\")],\n)"
      ]
    },
    {
      "cell_type": "markdown",
      "metadata": {},
      "source": [
        "With tuning completed, we can choose the configuration from the log file that\nhas the best measured performance and compile the schedule with the\ncorresponding parameters. We also do a quick verification that the schedule is\nproducing correct answers.  We can call the function :code:`matmul` directly\nunder the :any:`autotvm.apply_history_best` context. When we call this\nfunction, it will query the dispatch context with its argument and get the\nbest config with the same argument.\n\n"
      ]
    },
    {
      "cell_type": "code",
      "execution_count": null,
      "metadata": {
        "collapsed": false
      },
      "outputs": [],
      "source": [
        "# apply history best from log file\nwith autotvm.apply_history_best(\"matmul.log\"):\n    with tvm.target.Target(\"llvm\"):\n        s, arg_bufs = matmul(N, L, M, \"float32\")\n        func = tvm.build(s, arg_bufs)\n\n# check correctness\na_np = np.random.uniform(size=(N, L)).astype(np.float32)\nb_np = np.random.uniform(size=(L, M)).astype(np.float32)\nc_np = a_np.dot(b_np)\n\nc_tvm = tvm.nd.empty(c_np.shape)\nfunc(tvm.nd.array(a_np), tvm.nd.array(b_np), c_tvm)\n\ntvm.testing.assert_allclose(c_np, c_tvm.numpy(), rtol=1e-4)"
      ]
    },
    {
      "cell_type": "markdown",
      "metadata": {},
      "source": [
        "## Final Notes and Summary\nIn this tutorial, we have shown how to build operator templates that allow\nTVM to search a parameter space and choose optimized schedule configurations.\nTo gain a deeper understanding of how this works, we recommend expanding on\nthis example by adding new search parameters to the schedule based on\nschedule operations demonstrated in the :ref: `Getting Started With Tensor\nExpressions <tensor_expr_get_started>_` tutorial. In the upcoming sections, we\nwill demonstrate the AutoScheduler, a method for TVM to optimize common\noperators without the need for the user to provide a user-defined template.\n\n"
      ]
    }
  ],
  "metadata": {
    "kernelspec": {
      "display_name": "Python 3",
      "language": "python",
      "name": "python3"
    },
    "language_info": {
      "codemirror_mode": {
        "name": "ipython",
        "version": 3
      },
      "file_extension": ".py",
      "mimetype": "text/x-python",
      "name": "python",
      "nbconvert_exporter": "python",
      "pygments_lexer": "ipython3",
      "version": "3.7.5"
    }
  },
  "nbformat": 4,
  "nbformat_minor": 0
}